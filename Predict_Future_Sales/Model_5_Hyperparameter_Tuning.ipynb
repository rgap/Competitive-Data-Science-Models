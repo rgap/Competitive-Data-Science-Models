{
 "cells": [
  {
   "cell_type": "code",
   "execution_count": 1,
   "metadata": {},
   "outputs": [
    {
     "ename": "NameError",
     "evalue": "name '__file__' is not defined",
     "output_type": "error",
     "traceback": [
      "\u001b[0;31m---------------------------------------------------------------------------\u001b[0m",
      "\u001b[0;31mNameError\u001b[0m                                 Traceback (most recent call last)",
      "\u001b[0;32m<ipython-input-1-8ccefbc1dc5b>\u001b[0m in \u001b[0;36m<module>\u001b[0;34m()\u001b[0m\n\u001b[1;32m      7\u001b[0m \u001b[0;32mimport\u001b[0m \u001b[0mpickle\u001b[0m\u001b[0;34m\u001b[0m\u001b[0m\n\u001b[1;32m      8\u001b[0m \u001b[0;32mimport\u001b[0m \u001b[0mos\u001b[0m\u001b[0;34m\u001b[0m\u001b[0m\n\u001b[0;32m----> 9\u001b[0;31m \u001b[0mfilepath\u001b[0m \u001b[0;34m=\u001b[0m \u001b[0mos\u001b[0m\u001b[0;34m.\u001b[0m\u001b[0mpath\u001b[0m\u001b[0;34m.\u001b[0m\u001b[0mdirname\u001b[0m\u001b[0;34m(\u001b[0m\u001b[0mos\u001b[0m\u001b[0;34m.\u001b[0m\u001b[0mpath\u001b[0m\u001b[0;34m.\u001b[0m\u001b[0mabspath\u001b[0m\u001b[0;34m(\u001b[0m\u001b[0m__file__\u001b[0m\u001b[0;34m)\u001b[0m\u001b[0;34m)\u001b[0m\u001b[0;34m\u001b[0m\u001b[0m\n\u001b[0m",
      "\u001b[0;31mNameError\u001b[0m: name '__file__' is not defined"
     ]
    }
   ],
   "source": [
    "import numpy as np\n",
    "import pandas as pd\n",
    "import xgboost as xgb\n",
    "from sklearn.model_selection import GridSearchCV, PredefinedSplit\n",
    "from sklearn.metrics import mean_squared_error\n",
    "import lightgbm as lgb\n",
    "import pickle\n",
    "import os\n",
    "try:\n",
    "    filepath = os.path.dirname(os.path.abspath(__file__))\n",
    "except:\n",
    "    "
   ]
  },
  {
   "cell_type": "code",
   "execution_count": 2,
   "metadata": {},
   "outputs": [],
   "source": [
    "# This is for hyperparameters tuning\n",
    "X_train = pd.DataFrame(np.load(filepath + '/data/X_train.npz')['X_train'])\n",
    "X_val = pd.DataFrame(np.load(filepath + '/data/X_val.npz')['X_val'])\n",
    "\n",
    "y_train = np.load(filepath + '/data/y_train.npz')['y_train']\n",
    "y_val = np.load(filepath + '/data/y_val.npz')['y_val']\n",
    "\n",
    "# This is for training the final models\n",
    "X = X_train.append(X_val)\n",
    "y = np.append(y_train, y_val)"
   ]
  },
  {
   "cell_type": "code",
   "execution_count": 3,
   "metadata": {},
   "outputs": [],
   "source": [
    "def rmse(*args):\n",
    "    \"\"\" Funcion that calculates the root mean squared error\"\"\"\n",
    "    return np.sqrt(mean_squared_error(*args))\n",
    "def clip20(x):\n",
    "    return np.clip(x, 0, 20)"
   ]
  },
  {
   "cell_type": "markdown",
   "metadata": {},
   "source": [
    "## Stacking approach\n",
    "\n",
    "The final model will be an ensemble that uses the stacking approach.\n",
    "\n",
    "So there will be 3 **base models**:\n",
    "- Light Gradient Boosting (lightgbm)\n",
    "- XGBoost\n",
    "- Random Forest\n",
    "\n",
    "And the meta-model will be a **Linear Regression**\n",
    "\n",
    "## Metrics\n",
    "\n",
    "The metric that's being used is \"RMSE\" because that's what has to be optimized in the final model.\n",
    "\n",
    "## Hyperparameter Tuning\n",
    "\n",
    "### A. Light Gradient Boosting\n",
    "\n",
    "This is done so as to find the best parameters of the \"lightgbm\" model."
   ]
  },
  {
   "cell_type": "markdown",
   "metadata": {},
   "source": [
    "Here I find the best learning rate by training and validating.  \n",
    "An RMSE is computed after clipping the 'y' values because that's how the results will be evaluated in the leaderboard."
   ]
  },
  {
   "cell_type": "code",
   "execution_count": 4,
   "metadata": {},
   "outputs": [],
   "source": [
    "learning_rates = [0.02, 0.03, 0.04, 0.06, 0.08]\n",
    "best_rmse = 9999999999999\n",
    "for lr in learning_rates:\n",
    "    lgb_params = {\n",
    "               'feature_fraction': 0.75,\n",
    "               'metric': 'rmse',\n",
    "               'nthread':1, \n",
    "               'min_data_in_leaf': 2**7, \n",
    "               'bagging_fraction': 0.75, \n",
    "               'learning_rate': lr, \n",
    "               'objective': 'mse', \n",
    "               'bagging_seed': 2**7, \n",
    "               'num_leaves': 2**7,\n",
    "               'bagging_freq':1,\n",
    "               'verbose':0,\n",
    "               'num_threads':-1,\n",
    "              }\n",
    "\n",
    "    lgb_model = lgb.train(lgb_params, lgb.Dataset(X_train, label=y_train), int(100 * (lr / 0.03)))\n",
    "    pred_lgb_val = lgb_model.predict(X_val)\n",
    "    score = rmse(clip20(y_val), clip20(pred_lgb_val))\n",
    "\n",
    "    if score < best_rmse:\n",
    "        best_rmse = score\n",
    "        best_lr = lr\n",
    "        best_lgb = lgb_model"
   ]
  },
  {
   "cell_type": "code",
   "execution_count": 5,
   "metadata": {
    "scrolled": true
   },
   "outputs": [
    {
     "data": {
      "text/plain": [
       "0.06"
      ]
     },
     "execution_count": 5,
     "metadata": {},
     "output_type": "execute_result"
    }
   ],
   "source": [
    "best_lr"
   ]
  },
  {
   "cell_type": "markdown",
   "metadata": {},
   "source": [
    "#### Final training"
   ]
  },
  {
   "cell_type": "code",
   "execution_count": 85,
   "metadata": {},
   "outputs": [],
   "source": [
    "lgb_params = {\n",
    "               'feature_fraction': 0.8,\n",
    "               'metric': 'rmse',\n",
    "               'nthread':-1, \n",
    "               'min_data_in_leaf': 2, \n",
    "               'bagging_fraction': 0.75, \n",
    "               'learning_rate': best_lr, \n",
    "               'objective': 'mse', \n",
    "               'bagging_seed': 100, \n",
    "               'num_leaves': 16,\n",
    "               'bagging_freq':1,\n",
    "               'max_depth': 16,\n",
    "               'verbose':2,\n",
    "              }\n",
    "best_lgb = lgb.train(lgb_params, lgb.Dataset(X, label=y),100)"
   ]
  },
  {
   "cell_type": "code",
   "execution_count": 86,
   "metadata": {},
   "outputs": [],
   "source": [
    "filename = 'models/best_lgb.pkl'\n",
    "pickle.dump(best_lgb, open(filename, 'wb'))"
   ]
  },
  {
   "cell_type": "markdown",
   "metadata": {},
   "source": [
    "## Feature Importance\n",
    "\n",
    "This is to check if features really contribute to the model."
   ]
  },
  {
   "cell_type": "code",
   "execution_count": 84,
   "metadata": {
    "scrolled": true
   },
   "outputs": [
    {
     "data": {
      "image/png": "[encoded data removed]",
      "text/plain": [
       "<Figure size 432x288 with 1 Axes>"
      ]
     },
     "metadata": {},
     "output_type": "display_data"
    }
   ],
   "source": [
    "import matplotlib.pyplot as plt\n",
    "%matplotlib inline \n",
    "\n",
    "feat_importances = pd.Series(best_lgb.feature_importance(), index=X_val.columns)\n",
    "feat_importances = feat_importances.nlargest(20)\n",
    "feat_importances.plot(kind='barh')\n",
    "plt.title('Feature importance LGB')\n",
    "plt.show()"
   ]
  },
  {
   "cell_type": "markdown",
   "metadata": {},
   "source": [
    "### B. XGBoost\n",
    "\n",
    "Here I do a randomized grid search so that it ends faster.\n",
    "\n",
    "Best model\n",
    "\n",
    "    RandomizedSearchCV(cv=None, error_score='raise',\n",
    "       estimator=XGBRegressor(base_score=0.5, booster='gbtree', colsample_bylevel=1,\n",
    "       colsample_bytree=1, eval_metric='rmse', gamma=0, learning_rate=0.1,\n",
    "       max_delta_step=0, max_depth=3, min_child_weight=1, missing=None,\n",
    "       n_estimators=100, n_jobs=-1, nthread=None, objective='reg:linear',\n",
    "       random_state=0, reg_alpha=0, reg_lambda=1, scale_pos_weight=1,\n",
    "       seed=None, silent=True, subsample=1),"
   ]
  },
  {
   "cell_type": "code",
   "execution_count": null,
   "metadata": {
    "scrolled": false
   },
   "outputs": [],
   "source": [
    "from xgboost import XGBRegressor\n",
    "from sklearn.model_selection import RandomizedSearchCV\n",
    "\n",
    "# A parameter grid for XGBoost\n",
    "params = {'min_child_weight':[4,5],\n",
    "          'gamma':[i/10.0 for i in range(3,5)],\n",
    "          'subsample':[i/10.0 for i in range(6,8)],\n",
    "          'colsample_bytree':[i/10.0 for i in range(6,8)],\n",
    "          'max_depth': [2,3]}\n",
    "\n",
    "# Initialize XGB and GridSearch\n",
    "xgb_model = XGBRegressor(n_jobs=-1, eval_metric='rmse')\n",
    "\n",
    "train_ind=np.zeros(X.shape[0])\n",
    "for i in range(0, len(X_train)):\n",
    "    train_ind[i] = -1\n",
    "ps = PredefinedSplit(test_fold=(train_ind))\n",
    "\n",
    "best_xgb = RandomizedSearchCV(xgb_model, params, verbose=3, n_jobs=-1, cv=ps)\n",
    "best_xgb.fit(X, y, verbose=True)\n",
    "\n",
    "# best_xgb = XGBRegressor(random_state=100,\n",
    "#                      n_estimators=30,\n",
    "#                      max_depth=10,\n",
    "#                      n_jobs=4,\n",
    "#                      eval_metric='rmse')\n",
    "# best_xgb.fit(X, y, verbose=True)"
   ]
  },
  {
   "cell_type": "code",
   "execution_count": 10,
   "metadata": {},
   "outputs": [],
   "source": [
    "filename = 'models/best_xgb.pkl'\n",
    "pickle.dump(best_xgb, open(filename, 'wb'))"
   ]
  },
  {
   "cell_type": "markdown",
   "metadata": {},
   "source": [
    "### B. Random Forest\n",
    "\n",
    "Trained with an increased \"min_samples_leaf\" because it's been overfitting."
   ]
  },
  {
   "cell_type": "code",
   "execution_count": 31,
   "metadata": {
    "scrolled": true
   },
   "outputs": [
    {
     "name": "stdout",
     "output_type": "stream",
     "text": [
      "Fitting 3 folds for each of 10 candidates, totalling 30 fits\n",
      "[CV] min_samples_leaf=20, max_features=8, max_depth=8 ................\n",
      "[CV] min_samples_leaf=20, max_features=8, max_depth=8 ................\n",
      "building tree 1 of 16\n",
      "building tree 2 of 16\n",
      "building tree 3 of 16\n",
      "building tree 4 of 16\n",
      "[CV] min_samples_leaf=20, max_features=8, max_depth=8 ................\n",
      "building tree 1 of 16\n",
      "building tree 2 of 16\n",
      "building tree 4 of 16\n",
      "building tree 3 of 16\n",
      "[CV] min_samples_leaf=8, max_features=6, max_depth=2 .................\n",
      "building tree 1 of 16\n",
      "building tree 4 of 16\n",
      "building tree 3 of 16\n",
      "building tree 2 of 16\n",
      "building tree 1 of 16\n",
      "building tree 3 of 16\n",
      "building tree 2 of 16\n",
      "building tree 4 of 16\n",
      "building tree 5 of 16\n",
      "building tree 6 of 16\n",
      "building tree 7 of 16\n",
      "building tree 8 of 16\n",
      "building tree 9 of 16\n",
      "building tree 10 of 16\n",
      "building tree 11 of 16\n",
      "building tree 12 of 16\n",
      "building tree 13 of 16\n",
      "building tree 5 of 16\n",
      "building tree 14 of 16\n",
      "building tree 6 of 16\n",
      "building tree 15 of 16\n",
      "building tree 7 of 16\n",
      "building tree 8 of 16\n",
      "building tree 5 of 16\n",
      "building tree 6 of 16\n",
      "building tree 16 of 16\n",
      "building tree 7 of 16\n",
      "building tree 8 of 16\n",
      "building tree 5 of 16\n",
      "building tree 6 of 16\n",
      "building tree 7 of 16\n"
     ]
    },
    {
     "name": "stderr",
     "output_type": "stream",
     "text": [
      "[Parallel(n_jobs=-1)]: Done  16 out of  16 | elapsed:   28.8s finished\n"
     ]
    },
    {
     "name": "stdout",
     "output_type": "stream",
     "text": [
      "building tree 8 of 16\n"
     ]
    },
    {
     "name": "stderr",
     "output_type": "stream",
     "text": [
      "[Parallel(n_jobs=4)]: Done  16 out of  16 | elapsed:    0.1s finished\n",
      "[Parallel(n_jobs=4)]: Done  16 out of  16 | elapsed:    0.4s finished\n"
     ]
    },
    {
     "name": "stdout",
     "output_type": "stream",
     "text": [
      "[CV]  min_samples_leaf=8, max_features=6, max_depth=2, score=-7.193517242392016, total=  36.1s\n",
      "[CV] min_samples_leaf=8, max_features=6, max_depth=2 .................\n",
      "building tree 2 of 16\n",
      "building tree 4 of 16\n",
      "building tree 1 of 16\n",
      "building tree 3 of 16\n",
      "building tree 9 of 16\n",
      "building tree 5 of 16\n",
      "building tree 10 of 16\n",
      "building tree 6 of 16\n",
      "building tree 11 of 16\n",
      "building tree 7 of 16\n",
      "building tree 8 of 16\n",
      "building tree 9 of 16\n",
      "building tree 12 of 16\n",
      "building tree 10 of 16\n",
      "building tree 11 of 16\n",
      "building tree 9 of 16\n",
      "building tree 10 of 16\n",
      "building tree 11 of 16\n",
      "building tree 9 of 16\n",
      "building tree 12 of 16\n",
      "building tree 10 of 16\n",
      "building tree 12 of 16\n",
      "building tree 11 of 16\n",
      "building tree 13 of 16\n",
      "building tree 14 of 16\n",
      "building tree 12 of 16\n",
      "building tree 15 of 16\n",
      "building tree 16 of 16\n"
     ]
    },
    {
     "name": "stderr",
     "output_type": "stream",
     "text": [
      "[Parallel(n_jobs=-1)]: Done  16 out of  16 | elapsed:   28.0s finished\n",
      "[Parallel(n_jobs=4)]: Done  16 out of  16 | elapsed:    0.1s finished\n",
      "[Parallel(n_jobs=4)]: Done  16 out of  16 | elapsed:    0.5s finished\n"
     ]
    },
    {
     "name": "stdout",
     "output_type": "stream",
     "text": [
      "building tree 13 of 16\n",
      "[CV]  min_samples_leaf=8, max_features=6, max_depth=2, score=-11.912177116201129, total=  35.7s\n",
      "[CV] min_samples_leaf=8, max_features=6, max_depth=2 .................\n",
      "building tree 14 of 16\n",
      "building tree 15 of 16\n",
      "building tree 13 of 16\n",
      "building tree 14 of 16\n",
      "building tree 15 of 16\n",
      "building tree 16 of 16\n",
      "building tree 2 of 16\n",
      "building tree 3 of 16\n",
      "building tree 1 of 16\n",
      "building tree 4 of 16\n",
      "building tree 13 of 16\n",
      "building tree 14 of 16\n",
      "building tree 16 of 16\n",
      "building tree 15 of 16\n",
      "building tree 5 of 16\n",
      "building tree 6 of 16\n",
      "building tree 7 of 16\n",
      "building tree 8 of 16\n",
      "building tree 16 of 16\n",
      "building tree 9 of 16\n",
      "building tree 10 of 16\n",
      "building tree 11 of 16\n",
      "building tree 12 of 16\n",
      "building tree 13 of 16\n",
      "building tree 14 of 16\n",
      "building tree 15 of 16\n",
      "building tree 16 of 16\n"
     ]
    },
    {
     "name": "stderr",
     "output_type": "stream",
     "text": [
      "[Parallel(n_jobs=-1)]: Done  16 out of  16 | elapsed:   27.2s finished\n",
      "[Parallel(n_jobs=4)]: Done  16 out of  16 | elapsed:    0.1s finished\n",
      "[Parallel(n_jobs=-1)]: Done  16 out of  16 | elapsed:  1.9min finished\n",
      "[Parallel(n_jobs=4)]: Done  16 out of  16 | elapsed:    0.3s finished\n",
      "[Parallel(n_jobs=4)]: Done  16 out of  16 | elapsed:    0.2s finished\n",
      "[Parallel(n_jobs=-1)]: Done  16 out of  16 | elapsed:  1.9min finished\n"
     ]
    },
    {
     "name": "stdout",
     "output_type": "stream",
     "text": [
      "[CV]  min_samples_leaf=8, max_features=6, max_depth=2, score=-9.168296080245538, total=  34.1s\n",
      "[CV] min_samples_leaf=8, max_features=8, max_depth=8 .................\n"
     ]
    },
    {
     "name": "stderr",
     "output_type": "stream",
     "text": [
      "[Parallel(n_jobs=4)]: Done  16 out of  16 | elapsed:    0.5s finished\n",
      "[Parallel(n_jobs=4)]: Done  16 out of  16 | elapsed:    0.9s finished\n"
     ]
    },
    {
     "name": "stdout",
     "output_type": "stream",
     "text": [
      "[CV]  min_samples_leaf=20, max_features=8, max_depth=8, score=-3.9832227861340326, total= 2.0min\n",
      "[CV] min_samples_leaf=8, max_features=8, max_depth=8 .................\n"
     ]
    },
    {
     "name": "stderr",
     "output_type": "stream",
     "text": [
      "[Parallel(n_jobs=-1)]: Done  16 out of  16 | elapsed:  1.9min finished\n",
      "[Parallel(n_jobs=4)]: Done  16 out of  16 | elapsed:    1.0s finished\n",
      "[Parallel(n_jobs=4)]: Done  16 out of  16 | elapsed:    0.4s finished\n"
     ]
    },
    {
     "name": "stdout",
     "output_type": "stream",
     "text": [
      "[CV]  min_samples_leaf=20, max_features=8, max_depth=8, score=-8.25706250658346, total= 2.0min\n",
      "building tree 1 of 16\n",
      "building tree 2 of 16\n",
      "building tree 4 of 16\n",
      "building tree 3 of 16\n",
      "[CV] min_samples_leaf=8, max_features=8, max_depth=8 .................\n",
      "building tree 2 of 16\n",
      "building tree 3 of 16\n",
      "building tree 1 of 16\n",
      "building tree 4 of 16\n"
     ]
    },
    {
     "name": "stderr",
     "output_type": "stream",
     "text": [
      "[Parallel(n_jobs=4)]: Done  16 out of  16 | elapsed:    1.3s finished\n"
     ]
    },
    {
     "name": "stdout",
     "output_type": "stream",
     "text": [
      "[CV]  min_samples_leaf=20, max_features=8, max_depth=8, score=-6.259116243528529, total= 2.0min\n",
      "[CV] min_samples_leaf=20, max_features=4, max_depth=8 ................\n",
      "building tree 1 of 16\n",
      "building tree 3 of 16\n",
      "building tree 2 of 16\n",
      "building tree 4 of 16\n",
      "building tree 1 of 16\n",
      "building tree 3 of 16\n",
      "building tree 2 of 16\n",
      "building tree 4 of 16\n",
      "building tree 5 of 16\n",
      "building tree 5 of 16\n",
      "building tree 6 of 16\n",
      "building tree 6 of 16\n",
      "building tree 7 of 16\n",
      "building tree 8 of 16\n",
      "building tree 5 of 16\n",
      "building tree 7 of 16\n",
      "building tree 6 of 16\n",
      "building tree 8 of 16\n",
      "building tree 7 of 16\n",
      "building tree 8 of 16\n",
      "building tree 5 of 16\n",
      "building tree 6 of 16\n",
      "building tree 7 of 16\n",
      "building tree 8 of 16\n",
      "building tree 9 of 16\n",
      "building tree 10 of 16\n",
      "building tree 11 of 16\n",
      "building tree 12 of 16\n",
      "building tree 9 of 16\n",
      "building tree 10 of 16\n",
      "building tree 11 of 16\n",
      "building tree 9 of 16\n",
      "building tree 13 of 16\n",
      "building tree 10 of 16\n",
      "building tree 12 of 16\n",
      "building tree 11 of 16\n",
      "building tree 14 of 16\n",
      "building tree 15 of 16\n",
      "building tree 12 of 16\n",
      "building tree 16 of 16\n",
      "building tree 9 of 16\n",
      "building tree 10 of 16\n",
      "building tree 11 of 16\n",
      "building tree 12 of 16\n"
     ]
    },
    {
     "name": "stderr",
     "output_type": "stream",
     "text": [
      "[Parallel(n_jobs=-1)]: Done  16 out of  16 | elapsed:  1.3min finished\n",
      "[Parallel(n_jobs=4)]: Done  16 out of  16 | elapsed:    0.8s finished\n"
     ]
    },
    {
     "name": "stdout",
     "output_type": "stream",
     "text": [
      "building tree 13 of 16\n",
      "building tree 14 of 16\n",
      "building tree 15 of 16\n",
      "building tree 13 of 16\n"
     ]
    },
    {
     "name": "stderr",
     "output_type": "stream",
     "text": [
      "[Parallel(n_jobs=4)]: Done  16 out of  16 | elapsed:    1.7s finished\n"
     ]
    },
    {
     "name": "stdout",
     "output_type": "stream",
     "text": [
      "[CV]  min_samples_leaf=20, max_features=4, max_depth=8, score=-4.941352183780466, total= 1.4min\n",
      "[CV] min_samples_leaf=20, max_features=4, max_depth=8 ................\n",
      "building tree 14 of 16\n",
      "building tree 15 of 16\n",
      "building tree 16 of 16\n",
      "building tree 13 of 16\n",
      "building tree 14 of 16\n",
      "building tree 15 of 16\n",
      "building tree 16 of 16\n",
      "building tree 3 of 16\n",
      "building tree 2 of 16\n",
      "building tree 1 of 16\n",
      "building tree 4 of 16\n",
      "building tree 16 of 16\n",
      "building tree 5 of 16\n",
      "building tree 6 of 16\n",
      "building tree 7 of 16\n",
      "building tree 8 of 16\n"
     ]
    },
    {
     "name": "stderr",
     "output_type": "stream",
     "text": [
      "[Parallel(n_jobs=-1)]: Done  16 out of  16 | elapsed:  2.1min finished\n",
      "[Parallel(n_jobs=4)]: Done  16 out of  16 | elapsed:    0.4s finished\n",
      "[Parallel(n_jobs=-1)]: Done  16 out of  16 | elapsed:  2.1min finished\n"
     ]
    },
    {
     "name": "stdout",
     "output_type": "stream",
     "text": [
      "building tree 9 of 16\n"
     ]
    },
    {
     "name": "stderr",
     "output_type": "stream",
     "text": [
      "[Parallel(n_jobs=4)]: Done  16 out of  16 | elapsed:    0.6s finished\n"
     ]
    },
    {
     "name": "stdout",
     "output_type": "stream",
     "text": [
      "building tree 10 of 16\n"
     ]
    },
    {
     "name": "stderr",
     "output_type": "stream",
     "text": [
      "[Parallel(n_jobs=4)]: Done  16 out of  16 | elapsed:    1.2s finished\n"
     ]
    },
    {
     "name": "stdout",
     "output_type": "stream",
     "text": [
      "[CV]  min_samples_leaf=8, max_features=8, max_depth=8, score=-3.6224458748192725, total= 2.2min\n",
      "building tree 11 of 16\n",
      "[CV] min_samples_leaf=20, max_features=4, max_depth=8 ................\n",
      "building tree 12 of 16\n"
     ]
    },
    {
     "name": "stderr",
     "output_type": "stream",
     "text": [
      "[Parallel(n_jobs=-1)]: Done  16 out of  16 | elapsed:  2.1min finished\n",
      "[Parallel(n_jobs=4)]: Done  16 out of  16 | elapsed:    0.5s finished\n",
      "[Parallel(n_jobs=4)]: Done  16 out of  16 | elapsed:    1.2s finished\n"
     ]
    },
    {
     "name": "stdout",
     "output_type": "stream",
     "text": [
      "[CV]  min_samples_leaf=8, max_features=8, max_depth=8, score=-8.038944245720343, total= 2.2min\n",
      "[CV] min_samples_leaf=16, max_features=4, max_depth=2 ................\n",
      "building tree 2 of 16\n",
      "building tree 4 of 16\n",
      "building tree 3 of 16\n",
      "building tree 1 of 16\n"
     ]
    },
    {
     "name": "stderr",
     "output_type": "stream",
     "text": [
      "[Parallel(n_jobs=4)]: Done  16 out of  16 | elapsed:    1.2s finished\n"
     ]
    },
    {
     "name": "stdout",
     "output_type": "stream",
     "text": [
      "[CV]  min_samples_leaf=8, max_features=8, max_depth=8, score=-5.900979327723355, total= 2.2min\n",
      "[CV] min_samples_leaf=16, max_features=4, max_depth=2 ................\n",
      "building tree 4 of 16\n",
      "building tree 3 of 16\n",
      "building tree 1 of 16\n",
      "building tree 2 of 16\n",
      "building tree 5 of 16\n",
      "building tree 13 of 16\n",
      "building tree 6 of 16\n",
      "building tree 3 of 16\n",
      "building tree 1 of 16\n",
      "building tree 4 of 16\n",
      "building tree 2 of 16\n",
      "building tree 7 of 16\n",
      "building tree 14 of 16\n",
      "building tree 8 of 16\n",
      "building tree 15 of 16\n",
      "building tree 16 of 16\n",
      "building tree 9 of 16\n",
      "building tree 5 of 16\n",
      "building tree 10 of 16\n",
      "building tree 6 of 16\n",
      "building tree 7 of 16\n",
      "building tree 8 of 16\n",
      "building tree 11 of 16\n",
      "building tree 12 of 16\n",
      "building tree 9 of 16\n",
      "building tree 13 of 16\n",
      "building tree 14 of 16\n",
      "building tree 10 of 16\n",
      "building tree 5 of 16\n",
      "building tree 6 of 16\n",
      "building tree 15 of 16\n",
      "building tree 11 of 16\n",
      "building tree 7 of 16\n",
      "building tree 8 of 16\n",
      "building tree 12 of 16\n",
      "building tree 16 of 16\n",
      "building tree 13 of 16\n",
      "building tree 14 of 16\n",
      "building tree 15 of 16\n",
      "building tree 16 of 16\n"
     ]
    },
    {
     "name": "stderr",
     "output_type": "stream",
     "text": [
      "[Parallel(n_jobs=-1)]: Done  16 out of  16 | elapsed:   20.3s finished\n",
      "[Parallel(n_jobs=4)]: Done  16 out of  16 | elapsed:    0.1s finished\n",
      "[Parallel(n_jobs=-1)]: Done  16 out of  16 | elapsed:  1.0min finished\n",
      "[Parallel(n_jobs=-1)]: Done  16 out of  16 | elapsed:   19.7s finished\n",
      "[Parallel(n_jobs=4)]: Done  16 out of  16 | elapsed:    0.1s finished\n",
      "[Parallel(n_jobs=4)]: Done  16 out of  16 | elapsed:    0.4s finished\n",
      "[Parallel(n_jobs=4)]: Done  16 out of  16 | elapsed:    0.6s finished\n"
     ]
    },
    {
     "name": "stdout",
     "output_type": "stream",
     "text": [
      "[CV]  min_samples_leaf=16, max_features=4, max_depth=2, score=-7.425060114910326, total=  26.6s\n",
      "[CV] min_samples_leaf=16, max_features=4, max_depth=2 ................\n",
      "building tree 9 of 16\n"
     ]
    },
    {
     "name": "stderr",
     "output_type": "stream",
     "text": [
      "[Parallel(n_jobs=4)]: Done  16 out of  16 | elapsed:    0.4s finished\n"
     ]
    },
    {
     "name": "stdout",
     "output_type": "stream",
     "text": [
      "[CV]  min_samples_leaf=16, max_features=4, max_depth=2, score=-12.231326999219432, total=  26.4s\n",
      "[CV] min_samples_leaf=16, max_features=8, max_depth=2 ................\n",
      "building tree 10 of 16\n",
      "building tree 11 of 16\n",
      "building tree 12 of 16\n"
     ]
    },
    {
     "name": "stderr",
     "output_type": "stream",
     "text": [
      "[Parallel(n_jobs=4)]: Done  16 out of  16 | elapsed:    1.2s finished\n"
     ]
    },
    {
     "name": "stdout",
     "output_type": "stream",
     "text": [
      "[CV]  min_samples_leaf=20, max_features=4, max_depth=8, score=-8.890222833348862, total= 1.1min\n",
      "[CV] min_samples_leaf=16, max_features=8, max_depth=2 ................\n",
      "building tree 1 of 16\n",
      "building tree 2 of 16\n",
      "building tree 4 of 16\n",
      "building tree 3 of 16\n",
      "building tree 5 of 16\n",
      "building tree 4 of 16\n",
      "building tree 1 of 16\n",
      "building tree 2 of 16\n",
      "building tree 3 of 16\n",
      "building tree 6 of 16\n",
      "building tree 7 of 16\n",
      "building tree 8 of 16\n",
      "building tree 2 of 16\n",
      "building tree 3 of 16\n",
      "building tree 1 of 16\n",
      "building tree 4 of 16\n",
      "building tree 9 of 16\n",
      "building tree 13 of 16\n",
      "building tree 10 of 16\n",
      "building tree 11 of 16\n",
      "building tree 5 of 16\n",
      "building tree 12 of 16\n",
      "building tree 5 of 16\n",
      "building tree 6 of 16\n",
      "building tree 7 of 16\n",
      "building tree 13 of 16\n",
      "building tree 8 of 16\n",
      "building tree 14 of 16\n",
      "building tree 6 of 16\n",
      "building tree 7 of 16\n",
      "building tree 14 of 16\n",
      "building tree 8 of 16\n",
      "building tree 15 of 16\n",
      "building tree 15 of 16\n",
      "building tree 16 of 16\n",
      "building tree 16 of 16\n",
      "building tree 9 of 16\n",
      "building tree 10 of 16\n",
      "building tree 9 of 16\n",
      "building tree 11 of 16\n"
     ]
    },
    {
     "name": "stderr",
     "output_type": "stream",
     "text": [
      "[Parallel(n_jobs=-1)]: Done  16 out of  16 | elapsed:   21.5s finished\n"
     ]
    },
    {
     "name": "stdout",
     "output_type": "stream",
     "text": [
      "building tree 10 of 16\n",
      "building tree 11 of 16\n",
      "building tree 12 of 16\n"
     ]
    },
    {
     "name": "stderr",
     "output_type": "stream",
     "text": [
      "[Parallel(n_jobs=4)]: Done  16 out of  16 | elapsed:    0.1s finished\n"
     ]
    },
    {
     "name": "stdout",
     "output_type": "stream",
     "text": [
      "building tree 12 of 16\n"
     ]
    },
    {
     "name": "stderr",
     "output_type": "stream",
     "text": [
      "[Parallel(n_jobs=4)]: Done  16 out of  16 | elapsed:    0.4s finished\n"
     ]
    },
    {
     "name": "stdout",
     "output_type": "stream",
     "text": [
      "building tree 13 of 16\n",
      "[CV]  min_samples_leaf=16, max_features=4, max_depth=2, score=-9.35353146987425, total=  27.1s\n",
      "building tree 14 of 16\n",
      "[CV] min_samples_leaf=16, max_features=8, max_depth=2 ................\n",
      "building tree 15 of 16\n",
      "building tree 13 of 16\n",
      "building tree 14 of 16\n",
      "building tree 15 of 16\n",
      "building tree 16 of 16\n",
      "building tree 16 of 16\n"
     ]
    },
    {
     "name": "stderr",
     "output_type": "stream",
     "text": [
      "[Parallel(n_jobs=-1)]: Done  16 out of  16 | elapsed:  1.1min finished\n"
     ]
    },
    {
     "name": "stdout",
     "output_type": "stream",
     "text": [
      "building tree 2 of 16\n",
      "building tree 1 of 16\n",
      "building tree 4 of 16\n",
      "building tree 3 of 16\n"
     ]
    },
    {
     "name": "stderr",
     "output_type": "stream",
     "text": [
      "[Parallel(n_jobs=4)]: Done  16 out of  16 | elapsed:    0.5s finished\n",
      "[Parallel(n_jobs=-1)]: Done  16 out of  16 | elapsed:   32.4s finished\n",
      "[Parallel(n_jobs=-1)]: Done  16 out of  16 | elapsed:   31.8s finished\n"
     ]
    },
    {
     "name": "stdout",
     "output_type": "stream",
     "text": [
      "building tree 5 of 16\n"
     ]
    },
    {
     "name": "stderr",
     "output_type": "stream",
     "text": [
      "[Parallel(n_jobs=4)]: Done  16 out of  16 | elapsed:    0.1s finished\n",
      "[Parallel(n_jobs=4)]: Done  16 out of  16 | elapsed:    1.0s finished\n"
     ]
    },
    {
     "name": "stdout",
     "output_type": "stream",
     "text": [
      "[CV]  min_samples_leaf=20, max_features=4, max_depth=8, score=-6.69300340271639, total= 1.2min\n",
      "[CV] min_samples_leaf=8, max_features=6, max_depth=8 .................\n",
      "building tree 6 of 16\n",
      "building tree 7 of 16\n"
     ]
    },
    {
     "name": "stderr",
     "output_type": "stream",
     "text": [
      "[Parallel(n_jobs=4)]: Done  16 out of  16 | elapsed:    0.1s finished\n"
     ]
    },
    {
     "name": "stdout",
     "output_type": "stream",
     "text": [
      "building tree 8 of 16\n"
     ]
    },
    {
     "name": "stderr",
     "output_type": "stream",
     "text": [
      "[Parallel(n_jobs=4)]: Done  16 out of  16 | elapsed:    0.2s finished\n"
     ]
    },
    {
     "name": "stdout",
     "output_type": "stream",
     "text": [
      "[CV]  min_samples_leaf=16, max_features=8, max_depth=2, score=-6.54219661903538, total=  38.8s\n",
      "[CV] min_samples_leaf=8, max_features=6, max_depth=8 .................\n"
     ]
    },
    {
     "name": "stderr",
     "output_type": "stream",
     "text": [
      "[Parallel(n_jobs=4)]: Done  16 out of  16 | elapsed:    0.3s finished\n"
     ]
    },
    {
     "name": "stdout",
     "output_type": "stream",
     "text": [
      "[CV]  min_samples_leaf=16, max_features=8, max_depth=2, score=-11.434116132392056, total=  38.8s\n",
      "[CV] min_samples_leaf=8, max_features=6, max_depth=8 .................\n",
      "building tree 9 of 16\n",
      "building tree 10 of 16\n",
      "building tree 11 of 16\n",
      "building tree 2 of 16\n",
      "building tree 3 of 16\n",
      "building tree 4 of 16\n",
      "building tree 1 of 16\n",
      "building tree 12 of 16\n",
      "building tree 1 of 16\n",
      "building tree 2 of 16\n",
      "building tree 4 of 16\n",
      "building tree 3 of 16\n",
      "building tree 1 of 16\n",
      "building tree 4 of 16\n",
      "building tree 2 of 16\n",
      "building tree 3 of 16\n",
      "building tree 13 of 16\n",
      "building tree 14 of 16\n",
      "building tree 15 of 16\n",
      "building tree 16 of 16\n"
     ]
    },
    {
     "name": "stderr",
     "output_type": "stream",
     "text": [
      "[Parallel(n_jobs=-1)]: Done  16 out of  16 | elapsed:   28.8s finished\n",
      "[Parallel(n_jobs=4)]: Done  16 out of  16 | elapsed:    0.1s finished\n"
     ]
    },
    {
     "name": "stdout",
     "output_type": "stream",
     "text": [
      "building tree 5 of 16\n",
      "building tree 6 of 16\n",
      "building tree 7 of 16\n"
     ]
    },
    {
     "name": "stderr",
     "output_type": "stream",
     "text": [
      "[Parallel(n_jobs=4)]: Done  16 out of  16 | elapsed:    0.5s finished\n"
     ]
    },
    {
     "name": "stdout",
     "output_type": "stream",
     "text": [
      "[CV]  min_samples_leaf=16, max_features=8, max_depth=2, score=-8.919222161694282, total=  36.1s\n",
      "building tree 5 of 16\n",
      "[CV] min_samples_leaf=8, max_features=4, max_depth=8 .................\n",
      "building tree 6 of 16\n",
      "building tree 7 of 16\n",
      "building tree 5 of 16\n",
      "building tree 8 of 16\n",
      "building tree 6 of 16\n",
      "building tree 7 of 16\n",
      "building tree 8 of 16\n",
      "building tree 8 of 16\n",
      "building tree 3 of 16\n",
      "building tree 2 of 16\n",
      "building tree 4 of 16\n",
      "building tree 1 of 16\n",
      "building tree 9 of 16\n",
      "building tree 10 of 16\n",
      "building tree 11 of 16\n",
      "building tree 9 of 16\n",
      "building tree 5 of 16\n",
      "building tree 6 of 16\n",
      "building tree 9 of 16\n",
      "building tree 7 of 16\n",
      "building tree 8 of 16\n",
      "building tree 10 of 16\n",
      "building tree 11 of 16\n",
      "building tree 12 of 16\n",
      "building tree 10 of 16\n",
      "building tree 11 of 16\n",
      "building tree 12 of 16\n",
      "building tree 12 of 16\n",
      "building tree 9 of 16\n",
      "building tree 10 of 16\n",
      "building tree 11 of 16\n",
      "building tree 12 of 16\n",
      "building tree 13 of 16\n",
      "building tree 14 of 16\n",
      "building tree 15 of 16\n",
      "building tree 13 of 16\n",
      "building tree 13 of 16\n",
      "building tree 14 of 16\n",
      "building tree 15 of 16\n",
      "building tree 16 of 16\n",
      "building tree 14 of 16\n",
      "building tree 15 of 16\n",
      "building tree 16 of 16\n",
      "building tree 13 of 16\n",
      "building tree 16 of 16\n",
      "building tree 14 of 16\n",
      "building tree 15 of 16\n",
      "building tree 16 of 16\n"
     ]
    },
    {
     "name": "stderr",
     "output_type": "stream",
     "text": [
      "[Parallel(n_jobs=-1)]: Done  16 out of  16 | elapsed:  1.7min finished\n",
      "[Parallel(n_jobs=-1)]: Done  16 out of  16 | elapsed:  1.2min finished\n",
      "[Parallel(n_jobs=4)]: Done  16 out of  16 | elapsed:    0.2s finished\n",
      "[Parallel(n_jobs=-1)]: Done  16 out of  16 | elapsed:  1.6min finished\n",
      "[Parallel(n_jobs=4)]: Done  16 out of  16 | elapsed:    0.3s finished\n",
      "[Parallel(n_jobs=4)]: Done  16 out of  16 | elapsed:    0.2s finished\n",
      "[Parallel(n_jobs=-1)]: Done  16 out of  16 | elapsed:  1.6min finished\n",
      "[Parallel(n_jobs=4)]: Done  16 out of  16 | elapsed:    0.3s finished\n",
      "[Parallel(n_jobs=4)]: Done  16 out of  16 | elapsed:    0.8s finished\n"
     ]
    },
    {
     "name": "stdout",
     "output_type": "stream",
     "text": [
      "[CV]  min_samples_leaf=8, max_features=6, max_depth=8, score=-4.566562865810563, total= 1.8min\n",
      "[CV] min_samples_leaf=8, max_features=4, max_depth=8 .................\n"
     ]
    },
    {
     "name": "stderr",
     "output_type": "stream",
     "text": [
      "[Parallel(n_jobs=4)]: Done  16 out of  16 | elapsed:    0.8s finished\n"
     ]
    },
    {
     "name": "stdout",
     "output_type": "stream",
     "text": [
      "[CV]  min_samples_leaf=8, max_features=4, max_depth=8, score=-4.627607598559626, total= 1.3min\n",
      "[CV] min_samples_leaf=8, max_features=4, max_depth=8 .................\n"
     ]
    },
    {
     "name": "stderr",
     "output_type": "stream",
     "text": [
      "[Parallel(n_jobs=4)]: Done  16 out of  16 | elapsed:    0.7s finished\n"
     ]
    },
    {
     "name": "stdout",
     "output_type": "stream",
     "text": [
      "[CV]  min_samples_leaf=8, max_features=6, max_depth=8, score=-8.244570756972998, total= 1.7min\n",
      "[CV] min_samples_leaf=20, max_features=6, max_depth=2 ................\n"
     ]
    },
    {
     "name": "stderr",
     "output_type": "stream",
     "text": [
      "[Parallel(n_jobs=4)]: Done  16 out of  16 | elapsed:    0.6s finished\n"
     ]
    },
    {
     "name": "stdout",
     "output_type": "stream",
     "text": [
      "[CV]  min_samples_leaf=8, max_features=6, max_depth=8, score=-6.198042552473691, total= 1.8min\n",
      "[CV] min_samples_leaf=20, max_features=6, max_depth=2 ................\n",
      "building tree 3 of 16\n",
      "building tree 2 of 16\n",
      "building tree 1 of 16\n",
      "building tree 4 of 16\n",
      "building tree 3 of 16\n",
      "building tree 1 of 16\n",
      "building tree 2 of 16\n",
      "building tree 4 of 16\n",
      "building tree 3 of 16\n",
      "building tree 4 of 16\n",
      "building tree 1 of 16\n",
      "building tree 2 of 16\n",
      "building tree 2 of 16\n",
      "building tree 1 of 16\n",
      "building tree 3 of 16\n",
      "building tree 4 of 16\n",
      "building tree 5 of 16\n",
      "building tree 6 of 16\n",
      "building tree 7 of 16\n",
      "building tree 8 of 16\n",
      "building tree 5 of 16\n",
      "building tree 6 of 16\n",
      "building tree 7 of 16\n",
      "building tree 8 of 16\n",
      "building tree 9 of 16\n",
      "building tree 10 of 16\n",
      "building tree 9 of 16\n",
      "building tree 11 of 16\n",
      "building tree 10 of 16\n",
      "building tree 5 of 16\n",
      "building tree 6 of 16\n",
      "building tree 12 of 16\n",
      "building tree 11 of 16\n",
      "building tree 5 of 16\n",
      "building tree 7 of 16\n",
      "building tree 8 of 16\n",
      "building tree 6 of 16\n",
      "building tree 12 of 16\n",
      "building tree 13 of 16\n",
      "building tree 7 of 16\n",
      "building tree 14 of 16\n",
      "building tree 8 of 16\n",
      "building tree 15 of 16\n",
      "building tree 13 of 16\n",
      "building tree 14 of 16\n",
      "building tree 15 of 16\n",
      "building tree 16 of 16\n",
      "building tree 16 of 16\n"
     ]
    },
    {
     "name": "stderr",
     "output_type": "stream",
     "text": [
      "[Parallel(n_jobs=-1)]: Done  16 out of  16 | elapsed:   25.5s finished\n",
      "[Parallel(n_jobs=4)]: Done  16 out of  16 | elapsed:    0.1s finished\n",
      "[Parallel(n_jobs=-1)]: Done  16 out of  16 | elapsed:   25.3s finished\n"
     ]
    },
    {
     "name": "stdout",
     "output_type": "stream",
     "text": [
      "building tree 9 of 16\n"
     ]
    },
    {
     "name": "stderr",
     "output_type": "stream",
     "text": [
      "[Parallel(n_jobs=4)]: Done  16 out of  16 | elapsed:    0.1s finished\n"
     ]
    },
    {
     "name": "stdout",
     "output_type": "stream",
     "text": [
      "building tree 10 of 16\n",
      "building tree 9 of 16\n",
      "building tree 11 of 16\n"
     ]
    },
    {
     "name": "stderr",
     "output_type": "stream",
     "text": [
      "[Parallel(n_jobs=4)]: Done  16 out of  16 | elapsed:    0.3s finished\n"
     ]
    },
    {
     "name": "stdout",
     "output_type": "stream",
     "text": [
      "building tree 12 of 16\n",
      "[CV]  min_samples_leaf=20, max_features=6, max_depth=2, score=-7.318229224521506, total=  29.1s\n",
      "[CV] min_samples_leaf=20, max_features=6, max_depth=2 ................\n",
      "building tree 10 of 16\n",
      "building tree 11 of 16\n"
     ]
    },
    {
     "name": "stderr",
     "output_type": "stream",
     "text": [
      "[Parallel(n_jobs=4)]: Done  16 out of  16 | elapsed:    0.4s finished\n"
     ]
    },
    {
     "name": "stdout",
     "output_type": "stream",
     "text": [
      "building tree 12 of 16\n",
      "[CV]  min_samples_leaf=20, max_features=6, max_depth=2, score=-12.054121351958866, total=  30.4s\n",
      "[CV] min_samples_leaf=8, max_features=4, max_depth=2 .................\n",
      "building tree 3 of 16\n",
      "building tree 4 of 16\n",
      "building tree 2 of 16\n",
      "building tree 1 of 16\n",
      "building tree 2 of 16\n",
      "building tree 4 of 16\n",
      "building tree 1 of 16\n",
      "building tree 3 of 16\n",
      "building tree 5 of 16\n",
      "building tree 6 of 16\n",
      "building tree 5 of 16\n",
      "building tree 7 of 16\n",
      "building tree 13 of 16\n",
      "building tree 6 of 16\n",
      "building tree 7 of 16\n",
      "building tree 8 of 16\n",
      "building tree 8 of 16\n",
      "building tree 13 of 16\n",
      "building tree 14 of 16\n",
      "building tree 15 of 16\n",
      "building tree 16 of 16\n",
      "building tree 9 of 16\n",
      "building tree 9 of 16\n",
      "building tree 14 of 16\n",
      "building tree 15 of 16\n",
      "building tree 16 of 16\n",
      "building tree 10 of 16\n",
      "building tree 10 of 16\n",
      "building tree 11 of 16\n",
      "building tree 11 of 16\n",
      "building tree 12 of 16\n",
      "building tree 12 of 16\n",
      "building tree 13 of 16\n",
      "building tree 14 of 16\n",
      "building tree 15 of 16\n",
      "building tree 13 of 16\n",
      "building tree 14 of 16\n",
      "building tree 16 of 16\n",
      "building tree 15 of 16\n",
      "building tree 16 of 16\n"
     ]
    },
    {
     "name": "stderr",
     "output_type": "stream",
     "text": [
      "[Parallel(n_jobs=-1)]: Done  16 out of  16 | elapsed:   19.0s finished\n",
      "[Parallel(n_jobs=4)]: Done  16 out of  16 | elapsed:    0.1s finished\n",
      "[Parallel(n_jobs=-1)]: Done  16 out of  16 | elapsed:   59.4s finished\n",
      "[Parallel(n_jobs=4)]: Done  16 out of  16 | elapsed:    0.2s finished\n"
     ]
    },
    {
     "name": "stdout",
     "output_type": "stream",
     "text": [
      "[CV]  min_samples_leaf=8, max_features=4, max_depth=2, score=-7.888685037194504, total=  25.4s\n"
     ]
    },
    {
     "name": "stderr",
     "output_type": "stream",
     "text": [
      "[Parallel(n_jobs=-1)]: Done  16 out of  16 | elapsed:   24.0s finished\n"
     ]
    },
    {
     "name": "stdout",
     "output_type": "stream",
     "text": [
      "[CV] min_samples_leaf=8, max_features=4, max_depth=2 .................\n"
     ]
    },
    {
     "name": "stderr",
     "output_type": "stream",
     "text": [
      "[Parallel(n_jobs=4)]: Done  16 out of  16 | elapsed:    0.2s finished\n",
      "[Parallel(n_jobs=-1)]: Done  16 out of  16 | elapsed:   59.9s finished\n",
      "[Parallel(n_jobs=4)]: Done  16 out of  16 | elapsed:    0.1s finished\n",
      "[Parallel(n_jobs=4)]: Done  16 out of  16 | elapsed:    0.3s finished\n",
      "[Parallel(n_jobs=4)]: Done  16 out of  16 | elapsed:    0.6s finished\n"
     ]
    },
    {
     "name": "stdout",
     "output_type": "stream",
     "text": [
      "[CV]  min_samples_leaf=8, max_features=4, max_depth=8, score=-8.808770849771536, total= 1.0min\n"
     ]
    },
    {
     "name": "stderr",
     "output_type": "stream",
     "text": [
      "[Parallel(n_jobs=4)]: Done  16 out of  16 | elapsed:    0.2s finished\n"
     ]
    },
    {
     "name": "stdout",
     "output_type": "stream",
     "text": [
      "[CV]  min_samples_leaf=20, max_features=6, max_depth=2, score=-9.1774801402023, total=  29.5s\n",
      "[CV] min_samples_leaf=8, max_features=4, max_depth=2 .................\n"
     ]
    },
    {
     "name": "stderr",
     "output_type": "stream",
     "text": [
      "[Parallel(n_jobs=4)]: Done  16 out of  16 | elapsed:    0.5s finished\n"
     ]
    },
    {
     "name": "stdout",
     "output_type": "stream",
     "text": [
      "building tree 3 of 16\n",
      "building tree 1 of 16\n",
      "building tree 4 of 16\n",
      "building tree 2 of 16\n",
      "[CV]  min_samples_leaf=8, max_features=4, max_depth=8, score=-6.245221144836595, total= 1.0min\n",
      "building tree 5 of 16\n",
      "building tree 6 of 16\n",
      "building tree 7 of 16\n",
      "building tree 8 of 16\n",
      "building tree 1 of 16\n",
      "building tree 2 of 16\n",
      "building tree 3 of 16\n",
      "building tree 4 of 16\n",
      "building tree 9 of 16\n",
      "building tree 10 of 16\n",
      "building tree 11 of 16\n",
      "building tree 5 of 16\n",
      "building tree 6 of 16\n",
      "building tree 7 of 16\n",
      "building tree 8 of 16\n",
      "building tree 12 of 16\n",
      "building tree 13 of 16\n",
      "building tree 14 of 16\n",
      "building tree 9 of 16\n",
      "building tree 15 of 16\n",
      "building tree 10 of 16\n",
      "building tree 16 of 16\n",
      "building tree 11 of 16\n",
      "building tree 12 of 16\n",
      "building tree 13 of 16\n",
      "building tree 14 of 16\n",
      "building tree 15 of 16\n"
     ]
    },
    {
     "name": "stderr",
     "output_type": "stream",
     "text": [
      "[Parallel(n_jobs=-1)]: Done  16 out of  16 | elapsed:    7.8s finished\n"
     ]
    },
    {
     "name": "stdout",
     "output_type": "stream",
     "text": [
      "building tree 16 of 16\n"
     ]
    },
    {
     "name": "stderr",
     "output_type": "stream",
     "text": [
      "[Parallel(n_jobs=4)]: Done  16 out of  16 | elapsed:    0.1s finished\n",
      "[Parallel(n_jobs=-1)]: Done  16 out of  16 | elapsed:    7.5s finished\n",
      "[Parallel(n_jobs=4)]: Done  16 out of  16 | elapsed:    0.2s finished\n"
     ]
    },
    {
     "name": "stdout",
     "output_type": "stream",
     "text": [
      "[CV]  min_samples_leaf=8, max_features=4, max_depth=2, score=-12.174535810398933, total=  11.1s\n"
     ]
    },
    {
     "name": "stderr",
     "output_type": "stream",
     "text": [
      "[Parallel(n_jobs=4)]: Done  16 out of  16 | elapsed:    0.1s finished\n",
      "[Parallel(n_jobs=4)]: Done  16 out of  16 | elapsed:    0.2s finished\n"
     ]
    },
    {
     "name": "stdout",
     "output_type": "stream",
     "text": [
      "[CV]  min_samples_leaf=8, max_features=4, max_depth=2, score=-9.280588526705692, total=  10.1s\n"
     ]
    },
    {
     "name": "stderr",
     "output_type": "stream",
     "text": [
      "[Parallel(n_jobs=-1)]: Done  30 out of  30 | elapsed:  8.5min finished\n"
     ]
    },
    {
     "name": "stdout",
     "output_type": "stream",
     "text": [
      "building tree 1 of 16building tree 2 of 16building tree 3 of 16building tree 4 of 16\n",
      "\n",
      "\n",
      "\n",
      "building tree 5 of 16\n",
      "building tree 6 of 16\n",
      "building tree 7 of 16\n",
      "building tree 8 of 16\n",
      "building tree 9 of 16\n",
      "building tree 10 of 16\n",
      "building tree 11 of 16\n",
      "building tree 12 of 16\n",
      "building tree 13 of 16\n",
      "building tree 14 of 16\n",
      "building tree 15 of 16\n",
      "building tree 16 of 16\n"
     ]
    },
    {
     "name": "stderr",
     "output_type": "stream",
     "text": [
      "[Parallel(n_jobs=-1)]: Done  16 out of  16 | elapsed:   43.2s finished\n"
     ]
    },
    {
     "data": {
      "text/plain": [
       "RandomizedSearchCV(cv=None, error_score='raise',\n",
       "          estimator=RandomForestRegressor(bootstrap=True, criterion='mse', max_depth=None,\n",
       "           max_features='auto', max_leaf_nodes=None,\n",
       "           min_impurity_decrease=0.0, min_impurity_split=None,\n",
       "           min_samples_leaf=1, min_samples_split=2,\n",
       "           min_weight_fraction_leaf=0.0, n_estimators=16, n_jobs=-1,\n",
       "           oob_score=False, random_state=100, verbose=2, warm_start=False),\n",
       "          fit_params=None, iid=True, n_iter=10, n_jobs=-1,\n",
       "          param_distributions={'max_features': [4, 6, 8], 'max_depth': [2, 8], 'min_samples_leaf': [8, 16, 20]},\n",
       "          pre_dispatch='2*n_jobs', random_state=None, refit=True,\n",
       "          return_train_score='warn', scoring='neg_mean_squared_error',\n",
       "          verbose=3)"
      ]
     },
     "execution_count": 31,
     "metadata": {},
     "output_type": "execute_result"
    }
   ],
   "source": [
    "from sklearn.ensemble import RandomForestRegressor\n",
    "\n",
    "params={'max_features':[4, 6, 8], \n",
    "        'max_depth': [2, 8],\n",
    "        'min_samples_leaf' : [8, 16, 20]}\n",
    "\n",
    "rf_model = RandomForestRegressor(n_estimators=16, n_jobs=-1, random_state=100, criterion='mse', verbose=2)\n",
    "best_rf = RandomizedSearchCV(rf_model, params, scoring = 'neg_mean_squared_error', n_jobs=-1, verbose=3)\n",
    "best_rf.fit(X, y)"
   ]
  },
  {
   "cell_type": "code",
   "execution_count": 32,
   "metadata": {
    "scrolled": true
   },
   "outputs": [],
   "source": [
    "filename = 'models/best_rf.pkl'\n",
    "pickle.dump(best_rf, open(filename, 'wb'))"
   ]
  }
 ],
 "metadata": {
  "kernelspec": {
   "display_name": "Python 3",
   "language": "python",
   "name": "python3"
  },
  "language_info": {
   "codemirror_mode": {
    "name": "ipython",
    "version": 3
   },
   "file_extension": ".py",
   "mimetype": "text/x-python",
   "name": "python",
   "nbconvert_exporter": "python",
   "pygments_lexer": "ipython3",
   "version": "3.6.5"
  }
 },
 "nbformat": 4,
 "nbformat_minor": 2
}

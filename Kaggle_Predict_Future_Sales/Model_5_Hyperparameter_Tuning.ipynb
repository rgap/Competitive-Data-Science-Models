{
 "cells": [
  {
   "cell_type": "code",
   "execution_count": 1,
   "metadata": {},
   "outputs": [],
   "source": [
    "import numpy as np\n",
    "import pandas as pd\n",
    "import xgboost as xgb\n",
    "from sklearn.model_selection import GridSearchCV, PredefinedSplit\n",
    "from sklearn.metrics import mean_squared_error\n",
    "import lightgbm as lgb\n",
    "import pickle\n",
    "import os\n",
    "np.set_printoptions(suppress=True)"
   ]
  },
  {
   "cell_type": "code",
   "execution_count": 2,
   "metadata": {},
   "outputs": [],
   "source": [
    "# This is for hyperparameter tuning\n",
    "X_train = pd.DataFrame(np.load('data/X_train.npz')['X_train'])\n",
    "X_val = pd.DataFrame(np.load('data/X_val.npz')['X_val'])\n",
    "\n",
    "y_train = np.load('data/y_train.npz')['y_train']\n",
    "y_val = np.load('data/y_val.npz')['y_val']\n",
    "\n",
    "# This is for training the final models\n",
    "X = X_train.append(X_val)\n",
    "y = np.append(y_train, y_val)"
   ]
  },
  {
   "cell_type": "code",
   "execution_count": 3,
   "metadata": {},
   "outputs": [],
   "source": [
    "def rmse(*args):\n",
    "    \"\"\" Funcion that calculates the root mean squared error\"\"\"\n",
    "    return np.sqrt(mean_squared_error(*args))\n",
    "def clip20(x):\n",
    "    return np.clip(x, 0, 20)"
   ]
  },
  {
   "cell_type": "markdown",
   "metadata": {},
   "source": [
    "## Stacking approach\n",
    "\n",
    "The final model will be an ensemble that uses the stacking approach.\n",
    "\n",
    "So there will be 3 **base models**:\n",
    "- Light Gradient Boosting (lightgbm)\n",
    "- XGBoost\n",
    "- Random Forest\n",
    "\n",
    "And the meta-model will be a **Linear Regression**\n",
    "\n",
    "## Metrics\n",
    "\n",
    "The metric that's being used is \"RMSE\" because that's what has to be optimized in the final model.\n",
    "\n",
    "## Hyperparameter Tuning\n",
    "\n",
    "### A. Light Gradient Boosting\n",
    "\n",
    "This is done so as to find the best parameters of the \"lightgbm\" model."
   ]
  },
  {
   "cell_type": "markdown",
   "metadata": {},
   "source": [
    "Here I find the best learning rate by training and validating.  \n",
    "An RMSE is computed after clipping the 'y' values because that's how the results will be evaluated in the leaderboard."
   ]
  },
  {
   "cell_type": "code",
   "execution_count": 4,
   "metadata": {},
   "outputs": [
    {
     "name": "stdout",
     "output_type": "stream",
     "text": [
      "learning_rate: 0.02, best_rmse: 0.6828520758559177\n",
      "learning_rate: 0.03, best_rmse: 0.6590592464576364\n",
      "learning_rate: 0.04, best_rmse: 0.6520837032435529\n",
      "learning_rate: 0.06, best_rmse: 0.6483975421875632\n",
      "learning_rate: 0.08, best_rmse: 0.6481935464006291\n"
     ]
    }
   ],
   "source": [
    "learning_rates = [0.02, 0.03, 0.04, 0.06, 0.08]\n",
    "best_rmse = 9999999999999\n",
    "for lr in learning_rates:\n",
    "    lgb_params = {\n",
    "               'feature_fraction': 0.75,\n",
    "               'metric': 'rmse',\n",
    "               'min_data_in_leaf': 2**7, \n",
    "               'bagging_fraction': 0.75, \n",
    "               'learning_rate': lr, \n",
    "               'objective': 'mse', \n",
    "               'bagging_seed': 2**7, \n",
    "               'num_leaves': 2**7,\n",
    "               'bagging_freq':1,\n",
    "               'verbose':0,\n",
    "               'num_threads':-1,\n",
    "              }\n",
    "\n",
    "    lgb_model = lgb.train(lgb_params, lgb.Dataset(X_train, label=y_train), int(100 * (lr / 0.03)))\n",
    "    pred_lgb_val = lgb_model.predict(X_val)\n",
    "    score = rmse(clip20(y_val), clip20(pred_lgb_val))\n",
    "#     score = rmse(y_val, pred_lgb_val)\n",
    "\n",
    "    if score < best_rmse:\n",
    "        best_rmse = score\n",
    "        best_lr = lr\n",
    "        print('learning_rate: {}, best_rmse: {}'.format(lr, best_rmse))\n",
    "        best_lgb = lgb_model"
   ]
  },
  {
   "cell_type": "markdown",
   "metadata": {},
   "source": [
    "#### Final training"
   ]
  },
  {
   "cell_type": "code",
   "execution_count": 5,
   "metadata": {},
   "outputs": [],
   "source": [
    "lgb_params = {\n",
    "               'feature_fraction': 0.75,\n",
    "               'metric': 'rmse',\n",
    "               'min_data_in_leaf': 2**7, \n",
    "               'bagging_fraction': 0.75, \n",
    "               'learning_rate': best_lr, \n",
    "               'objective': 'mse', \n",
    "               'bagging_seed': 2**7, \n",
    "               'num_leaves': 2**7,\n",
    "               'bagging_freq':1,\n",
    "               'verbose':0,\n",
    "               'num_threads':-1,\n",
    "              }\n",
    "best_lgb = lgb.train(lgb_params, lgb.Dataset(X, label=y), 100)"
   ]
  },
  {
   "cell_type": "code",
   "execution_count": 6,
   "metadata": {},
   "outputs": [
    {
     "name": "stdout",
     "output_type": "stream",
     "text": [
      "0.29964386181944747\n",
      "Train RMSE 0.664622\n",
      "Val RMSE 0.573259\n"
     ]
    }
   ],
   "source": [
    "pred_lgb_val = best_lgb.predict(X_val)\n",
    "pred_lgb_val = clip20(pred_lgb_val)\n",
    "np.savetxt('output/pred_lgb_val.csv', pred_lgb_val, delimiter=\",\")\n",
    "print(pred_lgb_val.mean())\n",
    "\n",
    "print('Train RMSE %f' % rmse(clip20(y_train), clip20(lgb_model.predict(X_train))))\n",
    "print('Val RMSE %f' % rmse(clip20(y_val), clip20(pred_lgb_val)))"
   ]
  },
  {
   "cell_type": "code",
   "execution_count": 7,
   "metadata": {},
   "outputs": [],
   "source": [
    "filename = 'models/best_lgb.pkl'\n",
    "pickle.dump(best_lgb, open(filename, 'wb'))"
   ]
  },
  {
   "cell_type": "markdown",
   "metadata": {},
   "source": [
    "## Feature Importance\n",
    "\n",
    "This is to check if features really contribute to the model."
   ]
  },
  {
   "cell_type": "code",
   "execution_count": 8,
   "metadata": {
    "scrolled": true
   },
   "outputs": [
    {
     "data": {
      "image/png": "[encoded data removed]",
      "text/plain": [
       "<Figure size 432x288 with 1 Axes>"
      ]
     },
     "metadata": {},
     "output_type": "display_data"
    }
   ],
   "source": [
    "import matplotlib.pyplot as plt\n",
    "%matplotlib inline \n",
    "\n",
    "feat_importances = pd.Series(best_lgb.feature_importance(), index=X_val.columns)\n",
    "feat_importances = feat_importances.nlargest(20)\n",
    "feat_importances.plot(kind='barh')\n",
    "plt.title('Feature importance LGB')\n",
    "plt.show()"
   ]
  },
  {
   "cell_type": "markdown",
   "metadata": {},
   "source": [
    "### B. XGBoost\n",
    "\n",
    "Here I do a randomized grid search so that it ends faster."
   ]
  },
  {
   "cell_type": "code",
   "execution_count": 9,
   "metadata": {},
   "outputs": [],
   "source": [
    "train_ind=np.zeros(X.shape[0])\n",
    "for i in range(0, len(X_train)):\n",
    "    train_ind[i] = -1\n",
    "ps = PredefinedSplit(test_fold=(train_ind))"
   ]
  },
  {
   "cell_type": "code",
   "execution_count": 10,
   "metadata": {
    "scrolled": false
   },
   "outputs": [
    {
     "name": "stdout",
     "output_type": "stream",
     "text": [
      "Fitting 1 folds for each of 10 candidates, totalling 10 fits\n",
      "[CV] subsample=0.6, min_child_weight=5, max_depth=2, gamma=0.3, colsample_bytree=0.7 \n",
      "[CV] subsample=0.7, min_child_weight=4, max_depth=2, gamma=0.3, colsample_bytree=0.7 \n",
      "[CV] subsample=0.6, min_child_weight=4, max_depth=2, gamma=0.3, colsample_bytree=0.7 \n",
      "[CV] subsample=0.6, min_child_weight=4, max_depth=2, gamma=0.4, colsample_bytree=0.7 \n",
      "[CV]  subsample=0.6, min_child_weight=5, max_depth=2, gamma=0.3, colsample_bytree=0.7, score=0.5221274208956375, total= 3.4min\n",
      "[CV] subsample=0.6, min_child_weight=5, max_depth=3, gamma=0.4, colsample_bytree=0.7 \n",
      "[CV]  subsample=0.6, min_child_weight=4, max_depth=2, gamma=0.3, colsample_bytree=0.7, score=0.5239899509915009, total= 3.4min\n",
      "[CV] subsample=0.6, min_child_weight=5, max_depth=3, gamma=0.3, colsample_bytree=0.6 \n",
      "[CV]  subsample=0.7, min_child_weight=4, max_depth=2, gamma=0.3, colsample_bytree=0.7, score=0.5141285048371886, total= 3.4min\n",
      "[CV] subsample=0.6, min_child_weight=4, max_depth=2, gamma=0.3, colsample_bytree=0.6 \n",
      "[CV]  subsample=0.6, min_child_weight=4, max_depth=2, gamma=0.4, colsample_bytree=0.7, score=0.5239899509915009, total= 3.4min\n",
      "[CV] subsample=0.6, min_child_weight=5, max_depth=2, gamma=0.4, colsample_bytree=0.6 \n",
      "[CV]  subsample=0.6, min_child_weight=4, max_depth=2, gamma=0.3, colsample_bytree=0.6, score=0.5075916823942301, total= 3.0min\n",
      "[CV]  subsample=0.6, min_child_weight=5, max_depth=2, gamma=0.4, colsample_bytree=0.6, score=0.5182971041326877, total= 3.0min\n",
      "[CV] subsample=0.7, min_child_weight=4, max_depth=2, gamma=0.4, colsample_bytree=0.7 \n",
      "[CV] subsample=0.7, min_child_weight=4, max_depth=3, gamma=0.4, colsample_bytree=0.7 \n",
      "[CV]  subsample=0.6, min_child_weight=5, max_depth=3, gamma=0.3, colsample_bytree=0.6, score=0.5621958821742892, total= 4.1min\n"
     ]
    },
    {
     "name": "stderr",
     "output_type": "stream",
     "text": [
      "[Parallel(n_jobs=-1)]: Done   7 out of  10 | elapsed:  7.8min remaining:  3.3min\n"
     ]
    },
    {
     "name": "stdout",
     "output_type": "stream",
     "text": [
      "[CV]  subsample=0.6, min_child_weight=5, max_depth=3, gamma=0.4, colsample_bytree=0.7, score=0.5405476842425396, total= 4.6min\n",
      "[CV]  subsample=0.7, min_child_weight=4, max_depth=2, gamma=0.4, colsample_bytree=0.7, score=0.5141285048371886, total= 2.5min\n",
      "[CV]  subsample=0.7, min_child_weight=4, max_depth=3, gamma=0.4, colsample_bytree=0.7, score=0.5473960136482483, total= 3.4min\n"
     ]
    },
    {
     "name": "stderr",
     "output_type": "stream",
     "text": [
      "[Parallel(n_jobs=-1)]: Done  10 out of  10 | elapsed: 10.2min finished\n"
     ]
    },
    {
     "data": {
      "text/plain": [
       "RandomizedSearchCV(cv=PredefinedSplit(test_fold=array([-1, -1, ...,  0,  0])),\n",
       "          error_score='raise',\n",
       "          estimator=XGBRegressor(base_score=0.5, booster='gbtree', colsample_bylevel=1,\n",
       "       colsample_bytree=1, eval_metric='rmse', gamma=0, learning_rate=0.1,\n",
       "       max_delta_step=0, max_depth=3, min_child_weight=1, missing=None,\n",
       "       n_estimators=100, n_jobs=-1, nthread=None, objective='reg:linear',\n",
       "       random_state=0, reg_alpha=0, reg_lambda=1, scale_pos_weight=1,\n",
       "       seed=None, silent=True, subsample=1),\n",
       "          fit_params=None, iid=True, n_iter=10, n_jobs=-1,\n",
       "          param_distributions={'min_child_weight': [4, 5], 'gamma': [0.3, 0.4], 'subsample': [0.6, 0.7], 'colsample_bytree': [0.6, 0.7], 'max_depth': [2, 3]},\n",
       "          pre_dispatch='2*n_jobs', random_state=None, refit=True,\n",
       "          return_train_score='warn', scoring=None, verbose=3)"
      ]
     },
     "execution_count": 10,
     "metadata": {},
     "output_type": "execute_result"
    }
   ],
   "source": [
    "from xgboost import XGBRegressor\n",
    "from sklearn.model_selection import RandomizedSearchCV\n",
    "\n",
    "# A parameter grid for XGBoost\n",
    "params = {'min_child_weight':[4,5],\n",
    "          'gamma':[i/10.0 for i in range(3,5)],\n",
    "          'subsample':[i/10.0 for i in range(6,8)],\n",
    "          'colsample_bytree':[i/10.0 for i in range(6,8)],\n",
    "          'max_depth': [2,3]}\n",
    "\n",
    "# Initialize XGB and GridSearch\n",
    "xgb_model = XGBRegressor(n_jobs=-1, eval_metric='rmse')\n",
    "\n",
    "best_xgb = RandomizedSearchCV(xgb_model, params, verbose=3, n_jobs=-1, cv=ps)\n",
    "best_xgb.fit(X, y, verbose=True)\n",
    "\n",
    "# best_xgb = XGBRegressor(random_state=100,\n",
    "#                      n_estimators=30,\n",
    "#                      max_depth=10,\n",
    "#                      n_jobs=4,\n",
    "#                      eval_metric='rmse')\n",
    "# best_xgb.fit(X, y, verbose=True)"
   ]
  },
  {
   "cell_type": "code",
   "execution_count": 11,
   "metadata": {},
   "outputs": [
    {
     "name": "stdout",
     "output_type": "stream",
     "text": [
      "0.3412288\n",
      "Train RMSE 0.903240\n",
      "Val RMSE 0.739043\n"
     ]
    }
   ],
   "source": [
    "pred_xgb_val = best_xgb.predict(X_val)\n",
    "pred_xgb_val = clip20(pred_xgb_val)\n",
    "np.savetxt('output/pred_xgb_val.csv', pred_xgb_val, delimiter=\",\")\n",
    "print(pred_xgb_val.mean())\n",
    "\n",
    "print('Train RMSE %f' % rmse(clip20(y_train), clip20(best_xgb.predict(X_train))))\n",
    "print('Val RMSE %f' % rmse(clip20(y_val), clip20(pred_xgb_val)))"
   ]
  },
  {
   "cell_type": "code",
   "execution_count": 12,
   "metadata": {},
   "outputs": [],
   "source": [
    "filename = 'models/best_xgb.pkl'\n",
    "pickle.dump(best_xgb, open(filename, 'wb'))"
   ]
  },
  {
   "cell_type": "markdown",
   "metadata": {},
   "source": [
    "### B. Random Forest\n",
    "\n",
    "Trained with an increased \"min_samples_leaf\" because it's been overfitting."
   ]
  },
  {
   "cell_type": "code",
   "execution_count": 13,
   "metadata": {
    "scrolled": true
   },
   "outputs": [
    {
     "name": "stdout",
     "output_type": "stream",
     "text": [
      "Fitting 1 folds for each of 10 candidates, totalling 10 fits\n",
      "[CV] min_samples_leaf=16, max_features=6, max_depth=2 ................\n",
      "[CV] min_samples_leaf=16, max_features=6, max_depth=8 ................\n",
      "building tree 1 of 16\n",
      "building tree 3 of 16\n",
      "building tree 2 of 16\n",
      "building tree 4 of 16\n",
      "building tree 5 of 16\n",
      "building tree 6 of 16\n",
      "building tree 7 of 16\n",
      "building tree 8 of 16\n",
      "[CV] min_samples_leaf=20, max_features=8, max_depth=2 ................\n",
      "building tree 2 of 16\n",
      "building tree 4 of 16\n",
      "building tree 3 of 16\n",
      "building tree 1 of 16\n",
      "building tree 9 of 16\n",
      "building tree 10 of 16\n",
      "building tree 11 of 16\n",
      "building tree 12 of 16\n",
      "[CV] min_samples_leaf=20, max_features=8, max_depth=8 ................\n",
      "building tree 1 of 16\n",
      "building tree 4 of 16\n",
      "building tree 2 of 16\n",
      "building tree 3 of 16\n",
      "building tree 13 of 16\n",
      "building tree 14 of 16\n",
      "building tree 15 of 16\n",
      "building tree 16 of 16\n",
      "building tree 5 of 16\n",
      "building tree 7 of 16\n",
      "building tree 6 of 16\n",
      "building tree 4 of 16\n",
      "building tree 2 of 16\n",
      "building tree 1 of 16\n",
      "building tree 3 of 16\n",
      "building tree 8 of 16\n"
     ]
    },
    {
     "name": "stderr",
     "output_type": "stream",
     "text": [
      "[Parallel(n_jobs=-1)]: Done  16 out of  16 | elapsed:   12.6s finished\n",
      "[Parallel(n_jobs=4)]: Done  16 out of  16 | elapsed:    0.1s finished\n",
      "[Parallel(n_jobs=4)]: Done  16 out of  16 | elapsed:    0.3s finished\n"
     ]
    },
    {
     "name": "stdout",
     "output_type": "stream",
     "text": [
      "[CV] . min_samples_leaf=16, max_features=6, max_depth=2, total=  14.6s\n",
      "[CV] min_samples_leaf=16, max_features=8, max_depth=2 ................\n",
      "building tree 9 of 16\n",
      "building tree 5 of 16\n",
      "building tree 10 of 16\n",
      "building tree 11 of 16\n",
      "building tree 6 of 16\n",
      "building tree 7 of 16\n",
      "building tree 8 of 16\n",
      "building tree 12 of 16\n",
      "building tree 4 of 16\n",
      "building tree 1 of 16\n",
      "building tree 2 of 16\n",
      "building tree 3 of 16\n",
      "building tree 13 of 16\n",
      "building tree 15 of 16\n",
      "building tree 14 of 16\n",
      "building tree 16 of 16\n",
      "building tree 5 of 16\n",
      "building tree 6 of 16\n",
      "building tree 7 of 16\n",
      "building tree 8 of 16\n"
     ]
    },
    {
     "name": "stderr",
     "output_type": "stream",
     "text": [
      "[Parallel(n_jobs=-1)]: Done  16 out of  16 | elapsed:   22.1s finished\n",
      "[Parallel(n_jobs=4)]: Done  16 out of  16 | elapsed:    0.1s finished\n"
     ]
    },
    {
     "name": "stdout",
     "output_type": "stream",
     "text": [
      "building tree 9 of 16\n",
      "building tree 10 of 16\n",
      "building tree 11 of 16\n",
      "building tree 5 of 16\n",
      "building tree 9 of 16\n"
     ]
    },
    {
     "name": "stderr",
     "output_type": "stream",
     "text": [
      "[Parallel(n_jobs=4)]: Done  16 out of  16 | elapsed:    0.3s finished\n"
     ]
    },
    {
     "name": "stdout",
     "output_type": "stream",
     "text": [
      "[CV] . min_samples_leaf=20, max_features=8, max_depth=2, total=  28.2s\n",
      "building tree 6 of 16\n",
      "building tree 7 of 16\n",
      "[CV] min_samples_leaf=8, max_features=8, max_depth=2 .................\n",
      "building tree 10 of 16\n",
      "building tree 12 of 16\n",
      "building tree 11 of 16\n",
      "building tree 8 of 16\n",
      "building tree 12 of 16\n",
      "building tree 13 of 16\n",
      "building tree 14 of 16\n",
      "building tree 15 of 16\n",
      "building tree 16 of 16\n",
      "building tree 3 of 16\n",
      "building tree 2 of 16\n",
      "building tree 4 of 16\n",
      "building tree 1 of 16\n"
     ]
    },
    {
     "name": "stderr",
     "output_type": "stream",
     "text": [
      "[Parallel(n_jobs=-1)]: Done  16 out of  16 | elapsed:   21.8s finished\n"
     ]
    },
    {
     "name": "stdout",
     "output_type": "stream",
     "text": [
      "building tree 5 of 16\n"
     ]
    },
    {
     "name": "stderr",
     "output_type": "stream",
     "text": [
      "[Parallel(n_jobs=4)]: Done  16 out of  16 | elapsed:    0.1s finished\n"
     ]
    },
    {
     "name": "stdout",
     "output_type": "stream",
     "text": [
      "building tree 6 of 16\n",
      "building tree 7 of 16\n",
      "building tree 8 of 16\n"
     ]
    },
    {
     "name": "stderr",
     "output_type": "stream",
     "text": [
      "[Parallel(n_jobs=4)]: Done  16 out of  16 | elapsed:    0.3s finished\n"
     ]
    },
    {
     "name": "stdout",
     "output_type": "stream",
     "text": [
      "[CV] . min_samples_leaf=16, max_features=8, max_depth=2, total=  28.1s\n",
      "[CV] min_samples_leaf=8, max_features=6, max_depth=8 .................\n",
      "building tree 9 of 16\n",
      "building tree 10 of 16\n",
      "building tree 11 of 16\n",
      "building tree 13 of 16\n",
      "building tree 14 of 16\n",
      "building tree 12 of 16\n",
      "building tree 15 of 16\n",
      "building tree 16 of 16\n",
      "building tree 9 of 16\n",
      "building tree 1 of 16\n",
      "building tree 2 of 16\n",
      "building tree 4 of 16\n",
      "building tree 3 of 16\n",
      "building tree 10 of 16\n",
      "building tree 11 of 16\n",
      "building tree 12 of 16\n",
      "building tree 13 of 16\n",
      "building tree 14 of 16\n",
      "building tree 15 of 16\n",
      "building tree 16 of 16\n"
     ]
    },
    {
     "name": "stderr",
     "output_type": "stream",
     "text": [
      "[Parallel(n_jobs=-1)]: Done  16 out of  16 | elapsed:   23.3s finished\n",
      "[Parallel(n_jobs=4)]: Done  16 out of  16 | elapsed:    0.1s finished\n",
      "[Parallel(n_jobs=4)]: Done  16 out of  16 | elapsed:    0.3s finished\n"
     ]
    },
    {
     "name": "stdout",
     "output_type": "stream",
     "text": [
      "[CV] .. min_samples_leaf=8, max_features=8, max_depth=2, total=  29.7s\n",
      "[CV] min_samples_leaf=16, max_features=8, max_depth=8 ................\n"
     ]
    },
    {
     "name": "stderr",
     "output_type": "stream",
     "text": [
      "[Parallel(n_jobs=-1)]: Done  16 out of  16 | elapsed:  1.1min finished\n"
     ]
    },
    {
     "name": "stdout",
     "output_type": "stream",
     "text": [
      "building tree 5 of 16\n"
     ]
    },
    {
     "name": "stderr",
     "output_type": "stream",
     "text": [
      "[Parallel(n_jobs=4)]: Done  16 out of  16 | elapsed:    0.4s finished\n"
     ]
    },
    {
     "name": "stdout",
     "output_type": "stream",
     "text": [
      "building tree 6 of 16\n",
      "building tree 7 of 16\n",
      "building tree 8 of 16\n",
      "building tree 3 of 16\n",
      "building tree 2 of 16\n",
      "building tree 4 of 16\n",
      "building tree 1 of 16\n"
     ]
    },
    {
     "name": "stderr",
     "output_type": "stream",
     "text": [
      "[Parallel(n_jobs=4)]: Done  16 out of  16 | elapsed:    1.1s finished\n"
     ]
    },
    {
     "name": "stdout",
     "output_type": "stream",
     "text": [
      "[CV] . min_samples_leaf=16, max_features=6, max_depth=8, total= 1.1min\n",
      "[CV] min_samples_leaf=16, max_features=4, max_depth=8 ................\n",
      "building tree 13 of 16\n",
      "building tree 14 of 16\n",
      "building tree 15 of 16\n",
      "building tree 16 of 16\n",
      "building tree 3 of 16\n",
      "building tree 1 of 16\n",
      "building tree 2 of 16\n",
      "building tree 4 of 16\n",
      "building tree 9 of 16\n",
      "building tree 10 of 16\n",
      "building tree 11 of 16\n",
      "building tree 12 of 16\n",
      "building tree 5 of 16\n",
      "building tree 6 of 16\n",
      "building tree 5 of 16\n",
      "building tree 7 of 16\n",
      "building tree 8 of 16\n",
      "building tree 6 of 16\n",
      "building tree 7 of 16\n",
      "building tree 8 of 16\n"
     ]
    },
    {
     "name": "stderr",
     "output_type": "stream",
     "text": [
      "[Parallel(n_jobs=-1)]: Done  16 out of  16 | elapsed:  1.5min finished\n"
     ]
    },
    {
     "name": "stdout",
     "output_type": "stream",
     "text": [
      "building tree 9 of 16\n"
     ]
    },
    {
     "name": "stderr",
     "output_type": "stream",
     "text": [
      "[Parallel(n_jobs=4)]: Done  16 out of  16 | elapsed:    0.7s finished\n"
     ]
    },
    {
     "name": "stdout",
     "output_type": "stream",
     "text": [
      "building tree 10 of 16\n",
      "building tree 11 of 16\n",
      "building tree 13 of 16\n",
      "building tree 14 of 16\n"
     ]
    },
    {
     "name": "stderr",
     "output_type": "stream",
     "text": [
      "[Parallel(n_jobs=4)]: Done  16 out of  16 | elapsed:    1.3s finished\n"
     ]
    },
    {
     "name": "stdout",
     "output_type": "stream",
     "text": [
      "[CV] . min_samples_leaf=20, max_features=8, max_depth=8, total= 1.7min\n",
      "building tree 12 of 16\n",
      "[CV] min_samples_leaf=20, max_features=4, max_depth=2 ................\n",
      "building tree 15 of 16\n",
      "building tree 16 of 16\n",
      "building tree 3 of 16\n",
      "building tree 2 of 16\n",
      "building tree 1 of 16\n",
      "building tree 4 of 16\n",
      "building tree 9 of 16\n",
      "building tree 10 of 16\n",
      "building tree 11 of 16\n",
      "building tree 5 of 16\n",
      "building tree 6 of 16\n",
      "building tree 7 of 16\n",
      "building tree 13 of 16\n",
      "building tree 8 of 16\n",
      "building tree 12 of 16\n",
      "building tree 14 of 16\n",
      "building tree 15 of 16\n",
      "building tree 16 of 16\n",
      "building tree 9 of 16\n",
      "building tree 10 of 16\n",
      "building tree 11 of 16\n",
      "building tree 12 of 16\n",
      "building tree 13 of 16\n",
      "building tree 14 of 16\n",
      "building tree 15 of 16\n",
      "building tree 16 of 16\n"
     ]
    },
    {
     "name": "stderr",
     "output_type": "stream",
     "text": [
      "[Parallel(n_jobs=-1)]: Done  16 out of  16 | elapsed:  1.3min finished\n",
      "[Parallel(n_jobs=-1)]: Done  16 out of  16 | elapsed:   17.7s finished\n",
      "[Parallel(n_jobs=4)]: Done  16 out of  16 | elapsed:    0.6s finished\n",
      "[Parallel(n_jobs=4)]: Done  16 out of  16 | elapsed:    0.1s finished\n",
      "[Parallel(n_jobs=4)]: Done  16 out of  16 | elapsed:    0.5s finished\n"
     ]
    },
    {
     "name": "stdout",
     "output_type": "stream",
     "text": [
      "[CV] . min_samples_leaf=20, max_features=4, max_depth=2, total=  25.7s\n"
     ]
    },
    {
     "name": "stderr",
     "output_type": "stream",
     "text": [
      "[Parallel(n_jobs=-1)]: Done  16 out of  16 | elapsed:   58.5s finished\n",
      "[Parallel(n_jobs=4)]: Done  16 out of  16 | elapsed:    0.9s finished\n"
     ]
    },
    {
     "name": "stdout",
     "output_type": "stream",
     "text": [
      "[CV] .. min_samples_leaf=8, max_features=6, max_depth=8, total= 1.5min\n"
     ]
    },
    {
     "name": "stderr",
     "output_type": "stream",
     "text": [
      "[Parallel(n_jobs=4)]: Done  16 out of  16 | elapsed:    0.3s finished\n"
     ]
    },
    {
     "name": "stdout",
     "output_type": "stream",
     "text": [
      "building tree 13 of 16\n"
     ]
    },
    {
     "name": "stderr",
     "output_type": "stream",
     "text": [
      "[Parallel(n_jobs=4)]: Done  16 out of  16 | elapsed:    0.7s finished\n"
     ]
    },
    {
     "name": "stdout",
     "output_type": "stream",
     "text": [
      "[CV] . min_samples_leaf=16, max_features=4, max_depth=8, total= 1.1min\n",
      "building tree 14 of 16\n",
      "building tree 15 of 16\n",
      "building tree 16 of 16\n"
     ]
    },
    {
     "name": "stderr",
     "output_type": "stream",
     "text": [
      "[Parallel(n_jobs=-1)]: Done  16 out of  16 | elapsed:  1.3min finished\n",
      "[Parallel(n_jobs=4)]: Done  16 out of  16 | elapsed:    0.2s finished\n",
      "[Parallel(n_jobs=4)]: Done  16 out of  16 | elapsed:    0.4s finished\n"
     ]
    },
    {
     "name": "stdout",
     "output_type": "stream",
     "text": [
      "[CV] . min_samples_leaf=16, max_features=8, max_depth=8, total= 1.4min\n"
     ]
    },
    {
     "name": "stderr",
     "output_type": "stream",
     "text": [
      "[Parallel(n_jobs=-1)]: Done  10 out of  10 | elapsed:  2.6min finished\n"
     ]
    },
    {
     "name": "stdout",
     "output_type": "stream",
     "text": [
      "building tree 1 of 16building tree 2 of 16building tree 3 of 16\n",
      "building tree 4 of 16\n",
      "\n",
      "\n",
      "building tree 5 of 16\n",
      "building tree 6 of 16\n",
      "building tree 7 of 16\n",
      "building tree 8 of 16\n",
      "building tree 9 of 16\n",
      "building tree 10 of 16\n",
      "building tree 11 of 16\n",
      "building tree 12 of 16\n",
      "building tree 13 of 16\n",
      "building tree 14 of 16\n",
      "building tree 15 of 16\n",
      "building tree 16 of 16\n"
     ]
    },
    {
     "name": "stderr",
     "output_type": "stream",
     "text": [
      "[Parallel(n_jobs=-1)]: Done  16 out of  16 | elapsed:   34.7s finished\n"
     ]
    },
    {
     "data": {
      "text/plain": [
       "RandomizedSearchCV(cv=PredefinedSplit(test_fold=array([-1, -1, ...,  0,  0])),\n",
       "          error_score='raise',\n",
       "          estimator=RandomForestRegressor(bootstrap=True, criterion='mse', max_depth=None,\n",
       "           max_features='auto', max_leaf_nodes=None,\n",
       "           min_impurity_decrease=0.0, min_impurity_split=None,\n",
       "           min_samples_leaf=1, min_samples_split=2,\n",
       "           min_weight_fraction_leaf=0.0, n_estimators=16, n_jobs=-1,\n",
       "           oob_score=False, random_state=100, verbose=2, warm_start=False),\n",
       "          fit_params=None, iid=True, n_iter=10, n_jobs=-1,\n",
       "          param_distributions={'max_features': [4, 6, 8], 'max_depth': [2, 8], 'min_samples_leaf': [8, 16, 20]},\n",
       "          pre_dispatch='2*n_jobs', random_state=None, refit=True,\n",
       "          return_train_score='warn', scoring='neg_mean_squared_error',\n",
       "          verbose=2)"
      ]
     },
     "execution_count": 13,
     "metadata": {},
     "output_type": "execute_result"
    }
   ],
   "source": [
    "from sklearn.ensemble import RandomForestRegressor\n",
    "\n",
    "params={'max_features':[4, 6, 8], \n",
    "        'max_depth': [2, 8],\n",
    "        'min_samples_leaf' : [8, 16, 20]}\n",
    "\n",
    "rf_model = RandomForestRegressor(n_estimators=16, n_jobs=-1, random_state=100, criterion='mse', verbose=2)\n",
    "best_rf = RandomizedSearchCV(rf_model, params, scoring = 'neg_mean_squared_error', n_jobs=-1, verbose=2, cv=ps)\n",
    "best_rf.fit(X, y)"
   ]
  },
  {
   "cell_type": "code",
   "execution_count": 14,
   "metadata": {},
   "outputs": [
    {
     "name": "stderr",
     "output_type": "stream",
     "text": [
      "[Parallel(n_jobs=4)]: Done  16 out of  16 | elapsed:    0.2s finished\n"
     ]
    },
    {
     "name": "stdout",
     "output_type": "stream",
     "text": [
      "0.33545645343144237\n",
      "Train RMSE 0.898301\n",
      "Val RMSE 0.702159\n"
     ]
    },
    {
     "name": "stderr",
     "output_type": "stream",
     "text": [
      "[Parallel(n_jobs=4)]: Done  16 out of  16 | elapsed:    0.4s finished\n"
     ]
    }
   ],
   "source": [
    "pred_rf_val = best_rf.predict(X_val)\n",
    "pred_rf_val = clip20(pred_rf_val)\n",
    "np.savetxt('output/pred_rf_val.csv', pred_rf_val, delimiter=\",\")\n",
    "print(pred_rf_val.mean())\n",
    "\n",
    "print('Train RMSE %f' % rmse(clip20(y_train), clip20(best_rf.predict(X_train))))\n",
    "print('Val RMSE %f' % rmse(clip20(y_val), clip20(pred_rf_val)))"
   ]
  },
  {
   "cell_type": "code",
   "execution_count": 15,
   "metadata": {
    "scrolled": true
   },
   "outputs": [],
   "source": [
    "filename = 'models/best_rf.pkl'\n",
    "pickle.dump(best_rf, open(filename, 'wb'))"
   ]
  }
 ],
 "metadata": {
  "kernelspec": {
   "display_name": "Python 3",
   "language": "python",
   "name": "python3"
  },
  "language_info": {
   "codemirror_mode": {
    "name": "ipython",
    "version": 3
   },
   "file_extension": ".py",
   "mimetype": "text/x-python",
   "name": "python",
   "nbconvert_exporter": "python",
   "pygments_lexer": "ipython3",
   "version": "3.6.5"
  }
 },
 "nbformat": 4,
 "nbformat_minor": 2
}

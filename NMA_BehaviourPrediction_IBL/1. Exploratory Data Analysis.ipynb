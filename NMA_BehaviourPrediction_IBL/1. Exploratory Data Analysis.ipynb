{
 "cells": [
  {
   "cell_type": "code",
   "execution_count": 1,
   "id": "2ec9d551",
   "metadata": {},
   "outputs": [],
   "source": [
    "%matplotlib inline\n",
    "import numpy as np\n",
    "import pandas as pd\n",
    "from scipy import stats\n",
    "import matplotlib.pyplot as plt\n",
    "import seaborn as sns\n",
    "import warnings\n",
    "warnings.filterwarnings('ignore')\n",
    "\n",
    "# Bigger font\n",
    "sns.set(font_scale=1.3)\n",
    "plt.style.use('fivethirtyeight')\n",
    "# Figure size®\n",
    "from matplotlib.pylab import rcParams\n",
    "rcParams['figure.figsize'] = 10, 2.5\n",
    "rcParams['lines.marker'] = '.'\n",
    "rcParams['lines.linewidth'] = 1\n",
    "rcParams['lines.markersize'] = 5\n",
    "rcParams['legend.fontsize'] = 10\n",
    "rcParams['axes.titlesize'] = 16\n",
    "# plt.rc('figure.subplot', wspace=.33)\n",
    "# Slides\n",
    "from notebook.services.config import ConfigManager\n",
    "cm = ConfigManager()\n",
    "# cm.update('livereveal', {'width': 1024, 'height': 768, 'scroll': True, 'theme': 'simple', 'transition': 'linear'});\n",
    "# np.random.seed(123)\n",
    "\n",
    "from IPython.core.interactiveshell import InteractiveShell\n",
    "# InteractiveShell.ast_node_interactivity = \"all\"  # print not only the last variable\n",
    "%config InlineBackend.figure_format ='retina'  # retine quality plots"
   ]
  },
  {
   "cell_type": "code",
   "execution_count": 2,
   "id": "ff2aca15",
   "metadata": {},
   "outputs": [],
   "source": [
    "import datajoint as dj\n",
    "dj.config['database.host'] = 'datajoint-public.internationalbrainlab.org'\n",
    "dj.config['database.user'] = 'ibl-public'\n",
    "dj.config['database.password'] = 'ibl-public'"
   ]
  },
  {
   "cell_type": "code",
   "execution_count": 3,
   "id": "5787c75d",
   "metadata": {},
   "outputs": [
    {
     "name": "stderr",
     "output_type": "stream",
     "text": [
      "[2023-07-14 19:41:41,157][INFO]: Connecting ibl-public@datajoint-public.internationalbrainlab.org:3306\n",
      "[2023-07-14 19:41:42,972][INFO]: Connected ibl-public@datajoint-public.internationalbrainlab.org:3306\n"
     ]
    },
    {
     "name": "stdout",
     "output_type": "stream",
     "text": [
      "['ibl_acquisition', 'ibl_action', 'ibl_analyses_behavior', 'ibl_analyses_ephys', 'ibl_behavior', 'ibl_data', 'ibl_ephys', 'ibl_group_shared_wheel', 'ibl_histology', 'ibl_plotting_behavior', 'ibl_plotting_ephys', 'ibl_plotting_histology', 'ibl_qc', 'ibl_reference', 'ibl_subject']\n"
     ]
    }
   ],
   "source": [
    "print(dj.list_schemas())"
   ]
  },
  {
   "cell_type": "markdown",
   "id": "3ad21ac9",
   "metadata": {},
   "source": [
    "## Schemas to be loaded with datajoint"
   ]
  },
  {
   "cell_type": "code",
   "execution_count": 4,
   "id": "f3b9b252",
   "metadata": {},
   "outputs": [],
   "source": [
    "from nma_ibl import acquisition, action, behavior, data, reference, subject"
   ]
  },
  {
   "cell_type": "markdown",
   "id": "ae32fa19",
   "metadata": {},
   "source": [
    "## Subject (Mouse) DATABASE"
   ]
  },
  {
   "cell_type": "markdown",
   "id": "1001bd3a",
   "metadata": {},
   "source": [
    "### Showing some data"
   ]
  },
  {
   "cell_type": "code",
   "execution_count": 5,
   "id": "7f5b79f1",
   "metadata": {
    "scrolled": false
   },
   "outputs": [],
   "source": [
    "# dj.Diagram(subject) #.save(filename='subject.png', format='png')"
   ]
  },
  {
   "cell_type": "code",
   "execution_count": 6,
   "id": "9f5a9e07",
   "metadata": {
    "scrolled": false
   },
   "outputs": [
    {
     "data": {
      "text/html": [
       "<div>\n",
       "<style scoped>\n",
       "    .dataframe tbody tr th:only-of-type {\n",
       "        vertical-align: middle;\n",
       "    }\n",
       "\n",
       "    .dataframe tbody tr th {\n",
       "        vertical-align: top;\n",
       "    }\n",
       "\n",
       "    .dataframe thead th {\n",
       "        text-align: right;\n",
       "    }\n",
       "</style>\n",
       "<table border=\"1\" class=\"dataframe\">\n",
       "  <thead>\n",
       "    <tr style=\"text-align: right;\">\n",
       "      <th></th>\n",
       "      <th>subject_nickname</th>\n",
       "      <th>sex</th>\n",
       "      <th>subject_birth_date</th>\n",
       "      <th>ear_mark</th>\n",
       "      <th>subject_line</th>\n",
       "      <th>subject_strain</th>\n",
       "      <th>subject_source</th>\n",
       "      <th>protocol_number</th>\n",
       "      <th>subject_description</th>\n",
       "      <th>subject_ts</th>\n",
       "    </tr>\n",
       "    <tr>\n",
       "      <th>subject_uuid</th>\n",
       "      <th></th>\n",
       "      <th></th>\n",
       "      <th></th>\n",
       "      <th></th>\n",
       "      <th></th>\n",
       "      <th></th>\n",
       "      <th></th>\n",
       "      <th></th>\n",
       "      <th></th>\n",
       "      <th></th>\n",
       "    </tr>\n",
       "  </thead>\n",
       "  <tbody>\n",
       "    <tr>\n",
       "      <th>00778394-c956-408d-8a6c-ca3b05a611d5</th>\n",
       "      <td>KS019</td>\n",
       "      <td>F</td>\n",
       "      <td>2019-04-30</td>\n",
       "      <td>None</td>\n",
       "      <td>C57BL/6J</td>\n",
       "      <td>None</td>\n",
       "      <td>None</td>\n",
       "      <td>3</td>\n",
       "      <td>None</td>\n",
       "      <td>2020-01-13 23:39:00</td>\n",
       "    </tr>\n",
       "    <tr>\n",
       "      <th>019a22c1-b944-4494-9e38-0e45ae6697bf</th>\n",
       "      <td>SWC_022</td>\n",
       "      <td>M</td>\n",
       "      <td>2019-06-18</td>\n",
       "      <td>NA (Front HP)</td>\n",
       "      <td>C57BL/6J</td>\n",
       "      <td>None</td>\n",
       "      <td>Charles River</td>\n",
       "      <td>4</td>\n",
       "      <td>ID: 990762</td>\n",
       "      <td>2020-01-13 23:39:01</td>\n",
       "    </tr>\n",
       "    <tr>\n",
       "      <th>01be78e7-8741-4b40-bd64-79ed745431b5</th>\n",
       "      <td>CSHL057</td>\n",
       "      <td>M</td>\n",
       "      <td>2019-10-15</td>\n",
       "      <td>L</td>\n",
       "      <td>C57BL/6J</td>\n",
       "      <td>None</td>\n",
       "      <td>Jax</td>\n",
       "      <td>3</td>\n",
       "      <td>None</td>\n",
       "      <td>2020-01-13 23:39:01</td>\n",
       "    </tr>\n",
       "    <tr>\n",
       "      <th>02120449-9b19-4276-a434-513886c2fb19</th>\n",
       "      <td>ibl_witten_07</td>\n",
       "      <td>F</td>\n",
       "      <td>2018-11-13</td>\n",
       "      <td>None</td>\n",
       "      <td>C57BL/6J</td>\n",
       "      <td>None</td>\n",
       "      <td>Jax</td>\n",
       "      <td>3</td>\n",
       "      <td>None</td>\n",
       "      <td>2020-01-13 23:39:01</td>\n",
       "    </tr>\n",
       "  </tbody>\n",
       "</table>\n",
       "</div>"
      ],
      "text/plain": [
       "                                     subject_nickname sex subject_birth_date  \\\n",
       "subject_uuid                                                                   \n",
       "00778394-c956-408d-8a6c-ca3b05a611d5            KS019   F         2019-04-30   \n",
       "019a22c1-b944-4494-9e38-0e45ae6697bf          SWC_022   M         2019-06-18   \n",
       "01be78e7-8741-4b40-bd64-79ed745431b5          CSHL057   M         2019-10-15   \n",
       "02120449-9b19-4276-a434-513886c2fb19    ibl_witten_07   F         2018-11-13   \n",
       "\n",
       "                                           ear_mark subject_line  \\\n",
       "subject_uuid                                                       \n",
       "00778394-c956-408d-8a6c-ca3b05a611d5           None     C57BL/6J   \n",
       "019a22c1-b944-4494-9e38-0e45ae6697bf  NA (Front HP)     C57BL/6J   \n",
       "01be78e7-8741-4b40-bd64-79ed745431b5              L     C57BL/6J   \n",
       "02120449-9b19-4276-a434-513886c2fb19           None     C57BL/6J   \n",
       "\n",
       "                                     subject_strain subject_source  \\\n",
       "subject_uuid                                                         \n",
       "00778394-c956-408d-8a6c-ca3b05a611d5           None           None   \n",
       "019a22c1-b944-4494-9e38-0e45ae6697bf           None  Charles River   \n",
       "01be78e7-8741-4b40-bd64-79ed745431b5           None            Jax   \n",
       "02120449-9b19-4276-a434-513886c2fb19           None            Jax   \n",
       "\n",
       "                                      protocol_number subject_description  \\\n",
       "subject_uuid                                                                \n",
       "00778394-c956-408d-8a6c-ca3b05a611d5                3                None   \n",
       "019a22c1-b944-4494-9e38-0e45ae6697bf                4          ID: 990762   \n",
       "01be78e7-8741-4b40-bd64-79ed745431b5                3                None   \n",
       "02120449-9b19-4276-a434-513886c2fb19                3                None   \n",
       "\n",
       "                                              subject_ts  \n",
       "subject_uuid                                              \n",
       "00778394-c956-408d-8a6c-ca3b05a611d5 2020-01-13 23:39:00  \n",
       "019a22c1-b944-4494-9e38-0e45ae6697bf 2020-01-13 23:39:01  \n",
       "01be78e7-8741-4b40-bd64-79ed745431b5 2020-01-13 23:39:01  \n",
       "02120449-9b19-4276-a434-513886c2fb19 2020-01-13 23:39:01  "
      ]
     },
     "execution_count": 6,
     "metadata": {},
     "output_type": "execute_result"
    }
   ],
   "source": [
    "df = subject.Subject.fetch(format='frame')\n",
    "df[:4]"
   ]
  },
  {
   "cell_type": "code",
   "execution_count": 7,
   "id": "c78f55ef",
   "metadata": {},
   "outputs": [],
   "source": [
    "df.to_csv(\"data/subject.csv\")"
   ]
  },
  {
   "cell_type": "code",
   "execution_count": 8,
   "id": "4d57c65d",
   "metadata": {},
   "outputs": [
    {
     "data": {
      "text/plain": [
       "Index(['subject_nickname', 'sex', 'subject_birth_date', 'ear_mark',\n",
       "       'subject_line', 'subject_strain', 'subject_source', 'protocol_number',\n",
       "       'subject_description', 'subject_ts'],\n",
       "      dtype='object')"
      ]
     },
     "execution_count": 8,
     "metadata": {},
     "output_type": "execute_result"
    }
   ],
   "source": [
    "df.columns"
   ]
  },
  {
   "cell_type": "code",
   "execution_count": 9,
   "id": "fcc5899c",
   "metadata": {
    "scrolled": false
   },
   "outputs": [
    {
     "name": "stdout",
     "output_type": "stream",
     "text": [
      "df.shape (233, 10)\n",
      "..........\n",
      "subject_nickname               object\n",
      "sex                            object\n",
      "subject_birth_date             object\n",
      "ear_mark                       object\n",
      "subject_line                   object\n",
      "subject_strain                 object\n",
      "subject_source                 object\n",
      "protocol_number                 int64\n",
      "subject_description            object\n",
      "subject_ts             datetime64[ns]\n",
      "dtype: object\n"
     ]
    }
   ],
   "source": [
    "print('df.shape', df.shape)\n",
    "print('..........')\n",
    "print(df.dtypes)"
   ]
  },
  {
   "cell_type": "code",
   "execution_count": 10,
   "id": "ac1a0dbb",
   "metadata": {},
   "outputs": [],
   "source": [
    "df['subject_nickname'] = df['subject_nickname'].astype('str')\n",
    "df['sex'] = df['sex'].astype('str')\n",
    "df['subject_birth_date'] = df['subject_birth_date'].astype('str')\n",
    "df['ear_mark'] = df['ear_mark'].astype('str')\n",
    "df['subject_line'] = df['subject_line'].astype('str')\n",
    "df['subject_strain'] = df['subject_strain'].astype('str')\n",
    "df['subject_source'] = df['subject_source'].astype('str')\n",
    "df['protocol_number'] = df['protocol_number'].astype('str')\n",
    "df['subject_description'] = df['subject_description'].astype('str')\n",
    "df['subject_ts'] = df['subject_ts'].astype('str')"
   ]
  },
  {
   "cell_type": "code",
   "execution_count": 11,
   "id": "3de24152",
   "metadata": {},
   "outputs": [],
   "source": [
    "# numerical = df.dtypes[(df.dtypes != \"object\") & (titanic_train.dtypes != \"category\")].index\n",
    "# categorical = titanic_train.dtypes[(df.dtypes == \"object\") | (titanic_train.dtypes == \"category\")].index\n",
    "\n",
    "def get_numcat_cols(titanic_train):\n",
    "    numerical = titanic_train._get_numeric_data().columns\n",
    "    categorical = titanic_train.columns.difference(numerical)\n",
    "    return (numerical, categorical)"
   ]
  },
  {
   "cell_type": "markdown",
   "id": "4f166c53",
   "metadata": {},
   "source": [
    "## Categorical Data\n",
    "\n",
    "- count = count of non-NaN records\n",
    "- unique = number of unique categories\n",
    "- top = the most frequently occurring value\n",
    "- freq = the number of occurrences of the most frequent value"
   ]
  },
  {
   "cell_type": "code",
   "execution_count": 12,
   "id": "9cc197c3",
   "metadata": {
    "scrolled": false
   },
   "outputs": [
    {
     "data": {
      "text/html": [
       "<div>\n",
       "<style scoped>\n",
       "    .dataframe tbody tr th:only-of-type {\n",
       "        vertical-align: middle;\n",
       "    }\n",
       "\n",
       "    .dataframe tbody tr th {\n",
       "        vertical-align: top;\n",
       "    }\n",
       "\n",
       "    .dataframe thead th {\n",
       "        text-align: right;\n",
       "    }\n",
       "</style>\n",
       "<table border=\"1\" class=\"dataframe\">\n",
       "  <thead>\n",
       "    <tr style=\"text-align: right;\">\n",
       "      <th></th>\n",
       "      <th>subject_nickname</th>\n",
       "      <th>sex</th>\n",
       "      <th>subject_birth_date</th>\n",
       "      <th>ear_mark</th>\n",
       "      <th>subject_line</th>\n",
       "      <th>subject_strain</th>\n",
       "      <th>subject_source</th>\n",
       "      <th>protocol_number</th>\n",
       "      <th>subject_description</th>\n",
       "      <th>subject_ts</th>\n",
       "    </tr>\n",
       "  </thead>\n",
       "  <tbody>\n",
       "    <tr>\n",
       "      <th>count</th>\n",
       "      <td>233</td>\n",
       "      <td>233</td>\n",
       "      <td>233</td>\n",
       "      <td>233</td>\n",
       "      <td>233</td>\n",
       "      <td>233</td>\n",
       "      <td>233</td>\n",
       "      <td>233</td>\n",
       "      <td>233</td>\n",
       "      <td>233</td>\n",
       "    </tr>\n",
       "    <tr>\n",
       "      <th>unique</th>\n",
       "      <td>233</td>\n",
       "      <td>2</td>\n",
       "      <td>77</td>\n",
       "      <td>52</td>\n",
       "      <td>2</td>\n",
       "      <td>2</td>\n",
       "      <td>4</td>\n",
       "      <td>4</td>\n",
       "      <td>26</td>\n",
       "      <td>94</td>\n",
       "    </tr>\n",
       "    <tr>\n",
       "      <th>top</th>\n",
       "      <td>KS019</td>\n",
       "      <td>M</td>\n",
       "      <td>2018-10-23</td>\n",
       "      <td>None</td>\n",
       "      <td>C57BL/6J</td>\n",
       "      <td>None</td>\n",
       "      <td>Jax</td>\n",
       "      <td>3</td>\n",
       "      <td>None</td>\n",
       "      <td>2019-09-18 01:17:37</td>\n",
       "    </tr>\n",
       "    <tr>\n",
       "      <th>freq</th>\n",
       "      <td>1</td>\n",
       "      <td>144</td>\n",
       "      <td>11</td>\n",
       "      <td>62</td>\n",
       "      <td>199</td>\n",
       "      <td>201</td>\n",
       "      <td>105</td>\n",
       "      <td>139</td>\n",
       "      <td>202</td>\n",
       "      <td>14</td>\n",
       "    </tr>\n",
       "  </tbody>\n",
       "</table>\n",
       "</div>"
      ],
      "text/plain": [
       "       subject_nickname  sex subject_birth_date ear_mark subject_line  \\\n",
       "count               233  233                233      233          233   \n",
       "unique              233    2                 77       52            2   \n",
       "top               KS019    M         2018-10-23     None     C57BL/6J   \n",
       "freq                  1  144                 11       62          199   \n",
       "\n",
       "       subject_strain subject_source protocol_number subject_description  \\\n",
       "count             233            233             233                 233   \n",
       "unique              2              4               4                  26   \n",
       "top              None            Jax               3                None   \n",
       "freq              201            105             139                 202   \n",
       "\n",
       "                 subject_ts  \n",
       "count                   233  \n",
       "unique                   94  \n",
       "top     2019-09-18 01:17:37  \n",
       "freq                     14  "
      ]
     },
     "execution_count": 12,
     "metadata": {},
     "output_type": "execute_result"
    }
   ],
   "source": [
    "numerical, categorical = get_numcat_cols(df)\n",
    "df[categorical].describe()"
   ]
  },
  {
   "cell_type": "markdown",
   "id": "eaff021a",
   "metadata": {},
   "source": [
    "## Is there Numerical Data\n",
    "\n",
    "- There is no Numerical Data"
   ]
  },
  {
   "cell_type": "markdown",
   "id": "b7767c67",
   "metadata": {},
   "source": [
    "## Are there NA Values or Strange Values?\n",
    "\n",
    "- There is no Missing Data\n",
    "- Strange Values?"
   ]
  },
  {
   "cell_type": "code",
   "execution_count": 13,
   "id": "9758f608",
   "metadata": {},
   "outputs": [
    {
     "data": {
      "text/plain": [
       "Series([], dtype: float64)"
      ]
     },
     "execution_count": 13,
     "metadata": {},
     "output_type": "execute_result"
    }
   ],
   "source": [
    "null_columns = df.columns[df.isnull().any()]\n",
    "df[null_columns].isnull().sum()"
   ]
  },
  {
   "cell_type": "markdown",
   "id": "78a0e455",
   "metadata": {},
   "source": [
    "## Histograms"
   ]
  },
  {
   "cell_type": "code",
   "execution_count": 14,
   "id": "9126adf9",
   "metadata": {},
   "outputs": [
    {
     "data": {
      "image/png": "[encoded data removed]",
      "text/plain": [
       "<Figure size 1000x250 with 1 Axes>"
      ]
     },
     "metadata": {
      "image/png": {
       "height": 277,
       "width": 955
      }
     },
     "output_type": "display_data"
    }
   ],
   "source": [
    "features = categorical.tolist()\n",
    "sns.countplot(x='sex', data=df);"
   ]
  },
  {
   "cell_type": "code",
   "execution_count": 15,
   "id": "ed149138",
   "metadata": {},
   "outputs": [
    {
     "data": {
      "image/png": "[encoded data removed]",
      "text/plain": [
       "<Figure size 1000x250 with 1 Axes>"
      ]
     },
     "metadata": {
      "image/png": {
       "height": 272,
       "width": 984
      }
     },
     "output_type": "display_data"
    }
   ],
   "source": [
    "features = categorical.tolist()\n",
    "sns.countplot(x='ear_mark', data=df);"
   ]
  },
  {
   "cell_type": "code",
   "execution_count": 16,
   "id": "13239f04",
   "metadata": {},
   "outputs": [
    {
     "data": {
      "text/plain": [
       "subject_nickname\n",
       "KS019            1\n",
       "ZM_2106          1\n",
       "DY_005           1\n",
       "CSHL049          1\n",
       "SWC_060          1\n",
       "                ..\n",
       "CSHL051          1\n",
       "NYU-25           1\n",
       "ibl_witten_03    1\n",
       "SWC_008          1\n",
       "ZM_2240          1\n",
       "Name: count, Length: 233, dtype: int64"
      ]
     },
     "execution_count": 16,
     "metadata": {},
     "output_type": "execute_result"
    }
   ],
   "source": [
    "df['subject_nickname'].value_counts()"
   ]
  },
  {
   "cell_type": "code",
   "execution_count": 17,
   "id": "e7bcf9d9",
   "metadata": {
    "scrolled": false
   },
   "outputs": [
    {
     "data": {
      "text/plain": [
       "array(['KS019', 'SWC_022', 'CSHL057', 'ibl_witten_07', 'KS031', 'ZM_1092',\n",
       "       'KS004', 'ibl_witten_19', 'SWC_038', 'SWC_005', 'CSH_ZAD_007',\n",
       "       'CSHL_007', 'ZFM-02372', 'DY_013', 'SWC_029', 'DY_015', 'SWC_002',\n",
       "       'ibl_witten_23', 'NYU-11', 'CSH_ZAD_010', 'CSHL_015',\n",
       "       'ibl_witten_18', 'SWC_035', 'ZM_1093', 'CSHL047', 'DY_010',\n",
       "       'NYU-20', 'NYU-23', 'KS014', 'CSH_ZAD_024', 'CSHL_010', 'SWC_007',\n",
       "       'KS044', 'DY_018', 'ZM_1373', 'KS030', 'ZM_3004', 'CSH_ZAD_022',\n",
       "       'ZM_1746', 'ZM_2245', 'NYU-01', 'CSHL053', 'NYU-14',\n",
       "       'ibl_witten_06', 'SWC_001', 'CSHL060', 'ibl_witten_11',\n",
       "       'ZFM-02373', 'KS003', 'NYU-21', 'DY_006', 'NYU-30', 'ZM_3003',\n",
       "       'SWC_017', 'IBL-T4', 'KS016', 'NYU-24', 'CSHL055', 'ZFM-01936',\n",
       "       'ZM_1089', 'SWC_019', 'SWC_042', 'ZM_1745', 'NYU-02', 'SWC_016',\n",
       "       'CSH_ZAD_015', 'ibl_witten_29', 'SWC_040', 'DY_007', 'ZFM-02369',\n",
       "       'ZM_1095', 'CSHL_002', 'ibl_witten_26', 'SWC_013', 'KS021',\n",
       "       'CSH_ZAD_004', 'DY_014', 'ZM_1897', 'CSHL058', 'CSHL_008',\n",
       "       'SWC_004', 'KS034', 'CSHL051', 'NYU-25', 'ibl_witten_03',\n",
       "       'SWC_008', 'NYU-13', 'CSH_ZAD_026', 'CSHL_006', 'UCLA011',\n",
       "       'SWC_006', 'KS025', 'SWC_021', 'DY_020', 'ZM_1085', 'SWC_027',\n",
       "       'UCLA037', 'CSH_ZAD_011', 'ZM_1087', 'NYU-37', 'ZFM-01576',\n",
       "       'NYU-48', 'CSH_ZAD_001', 'SWC_054', 'ibl_witten_22', 'SWC_058',\n",
       "       'ibl_witten_17', 'DY_003', 'UCLA034', 'NYU-45', 'ZM_1743',\n",
       "       'CSHL_003', 'KS032', 'SWC_043', 'ibl_witten_15', 'ZM_3002',\n",
       "       'ibl_witten_24', 'NYU-09', 'CSHL_014', 'KS017', 'SWC_012',\n",
       "       'ZFM-01592', 'KS075', 'ibl_witten_13_', 'KS033', 'SWC_028',\n",
       "       'KS020', 'ZM_1084', 'ZM_3006', 'ZM_1928', 'ibl_witten_05',\n",
       "       'CSH_ZAD_018', 'ibl_witten_25', 'ZM_1098', 'CSHL_011', 'NYU-29',\n",
       "       'CSH_ZAD_003', 'ibl_witten_02', 'CSHL_004', 'CSH_ZAD_029',\n",
       "       'ZM_1898', 'ZM_1091', 'ZM_1371', 'DY_008', 'IBL-T3', 'SWC_034',\n",
       "       'ibl_witten_20', 'KS015', 'DY_005', 'CSHL049', 'SWC_060',\n",
       "       'SWC_033', 'SWC_032', 'ZFM-02370', 'SWC_023', 'KS055', 'NYU-26',\n",
       "       'SWC_010', 'ZFM-01575', 'IBL_002', 'ZM_2106', 'SWC_018',\n",
       "       'CSHL_005', 'SWC_030', 'CSH_ZAD_006', 'ibl_witten_27', 'CSHL045',\n",
       "       'NYU-12', 'ZM_2241', 'KS022', 'KS045', 'KS005', 'DY_001', 'KS018',\n",
       "       'ZM_1369', 'SWC_020', 'UCLA014', 'ibl_witten_14', 'CSH_ZAD_017',\n",
       "       'SWC_011', 'SWC_014', 'KS024', 'CSH_ZAD_023', 'KS023',\n",
       "       'ibl_witten_04', 'ZM_2107', 'ibl_witten_16', 'ZM_3001', 'SWC_036',\n",
       "       'CSH_ZAD_005', 'IBL-T1', 'SWC_003', 'ibl_witten_12', 'CSH_ZAD_016',\n",
       "       'DY_011', 'SWC_039', 'KS035', 'ZM_1372', 'SWC_041', 'NYU-06',\n",
       "       'CSHL034', 'CSHL046', 'SWC_015', 'CSH_ZAD_002', 'ZM_1367',\n",
       "       'SWC_052', 'NYU-47', 'CSHL052', 'IBL_005', 'DY_012', 'CSHL056',\n",
       "       'KS002', 'ZM_3005', 'KS074', 'CSHL_001', 'CSHL059', 'NYU-04',\n",
       "       'CSH_ZAD_009', 'NYU-07', 'CSHL_013', 'ZM_1097', 'DY_002', 'IBL-T2',\n",
       "       'ibl_witten_21', 'CSHL054', 'IBL_001', 'ZM_1086', 'CSHL_012',\n",
       "       'CSH_ZAD_021', 'DY_016', 'DY_009', 'CSH_ZAD_019', 'ZM_2240'],\n",
       "      dtype=object)"
      ]
     },
     "execution_count": 17,
     "metadata": {},
     "output_type": "execute_result"
    }
   ],
   "source": [
    "df['subject_nickname'].unique()"
   ]
  },
  {
   "cell_type": "code",
   "execution_count": 18,
   "id": "75640503",
   "metadata": {},
   "outputs": [],
   "source": [
    "def check_repeated_categories(df, column_name):\n",
    "    repeated_categories = []\n",
    "    counts = df[column_name].value_counts()\n",
    "    for category, count in counts.items():\n",
    "        if count > 1:\n",
    "            repeated_categories.append(category)\n",
    "    \n",
    "    return repeated_categories"
   ]
  },
  {
   "cell_type": "code",
   "execution_count": 19,
   "id": "f4c4a7b3",
   "metadata": {},
   "outputs": [
    {
     "name": "stdout",
     "output_type": "stream",
     "text": [
      "Repeated categories: []\n"
     ]
    }
   ],
   "source": [
    "repeated_categories = check_repeated_categories(df, 'subject_nickname')\n",
    "print(\"Repeated categories:\", repeated_categories)"
   ]
  }
 ],
 "metadata": {
  "kernelspec": {
   "display_name": "Python 3 (ipykernel)",
   "language": "python",
   "name": "python3"
  },
  "language_info": {
   "codemirror_mode": {
    "name": "ipython",
    "version": 3
   },
   "file_extension": ".py",
   "mimetype": "text/x-python",
   "name": "python",
   "nbconvert_exporter": "python",
   "pygments_lexer": "ipython3",
   "version": "3.10.4"
  }
 },
 "nbformat": 4,
 "nbformat_minor": 5
}
